{
 "cells": [
  {
   "cell_type": "code",
   "execution_count": 1,
   "metadata": {},
   "outputs": [
    {
     "name": "stderr",
     "output_type": "stream",
     "text": [
      "C:\\Users\\ddrye\\AppData\\Roaming\\Python\\Python311\\site-packages\\libpysal\\cg\\alpha_shapes.py:38: NumbaDeprecationWarning: \u001b[1mThe 'nopython' keyword argument was not supplied to the 'numba.jit' decorator. The implicit default value for this argument is currently False, but it will be changed to True in Numba 0.59.0. See https://numba.readthedocs.io/en/stable/reference/deprecation.html#deprecation-of-object-mode-fall-back-behaviour-when-using-jit for details.\u001b[0m\n",
      "  @jit\n",
      "C:\\Users\\ddrye\\AppData\\Roaming\\Python\\Python311\\site-packages\\libpysal\\cg\\alpha_shapes.py:164: NumbaDeprecationWarning: \u001b[1mThe 'nopython' keyword argument was not supplied to the 'numba.jit' decorator. The implicit default value for this argument is currently False, but it will be changed to True in Numba 0.59.0. See https://numba.readthedocs.io/en/stable/reference/deprecation.html#deprecation-of-object-mode-fall-back-behaviour-when-using-jit for details.\u001b[0m\n",
      "  @jit\n",
      "C:\\Users\\ddrye\\AppData\\Roaming\\Python\\Python311\\site-packages\\libpysal\\cg\\alpha_shapes.py:198: NumbaDeprecationWarning: \u001b[1mThe 'nopython' keyword argument was not supplied to the 'numba.jit' decorator. The implicit default value for this argument is currently False, but it will be changed to True in Numba 0.59.0. See https://numba.readthedocs.io/en/stable/reference/deprecation.html#deprecation-of-object-mode-fall-back-behaviour-when-using-jit for details.\u001b[0m\n",
      "  @jit\n",
      "C:\\Users\\ddrye\\AppData\\Roaming\\Python\\Python311\\site-packages\\libpysal\\cg\\alpha_shapes.py:260: NumbaDeprecationWarning: \u001b[1mThe 'nopython' keyword argument was not supplied to the 'numba.jit' decorator. The implicit default value for this argument is currently False, but it will be changed to True in Numba 0.59.0. See https://numba.readthedocs.io/en/stable/reference/deprecation.html#deprecation-of-object-mode-fall-back-behaviour-when-using-jit for details.\u001b[0m\n",
      "  @jit\n"
     ]
    }
   ],
   "source": [
    "import pandas as pd\n",
    "import georasters as gr\n",
    "import os\n",
    "import geopandas as gpd\n",
    "from shapely.geometry import Point\n",
    "import urllib.request\n",
    "import json\n",
    "import plotly.express as px\n",
    "import urllib.request\n",
    "import json\n",
    "from shapely.geometry import Polygon\n",
    "import numpy as np\n",
    "import seaborn as sns\n",
    "import plotly\n",
    "import plotly.graph_objects as go\n",
    "from plotly.subplots import make_subplots"
   ]
  },
  {
   "cell_type": "code",
   "execution_count": 2,
   "metadata": {},
   "outputs": [],
   "source": [
    "request = urllib.request.Request('https://raw.githubusercontent.com/plotly/datasets/master/geojson-counties-fips.json')\n",
    "opener = urllib.request.build_opener()\n",
    "response = opener.open(request)\n",
    "counties_map = json.load(response)\n",
    "\n",
    "counties=gpd.GeoDataFrame.from_features(counties_map[\"features\"])\n",
    "id = pd.json_normalize(counties_map, record_path =['features'])[['id']]\n",
    "counties['geoid']=id"
   ]
  },
  {
   "cell_type": "code",
   "execution_count": 3,
   "metadata": {},
   "outputs": [],
   "source": [
    "svi_co2=pd.read_pickle('data\\dataset')"
   ]
  },
  {
   "cell_type": "code",
   "execution_count": 4,
   "metadata": {},
   "outputs": [],
   "source": [
    "pd.set_option('display.max_columns', None)\n",
    "svi_co2 = svi_co2[svi_co2['year'] != '2014'] \n",
    "#svi_co2=svi_co2[(svi_co2.select_dtypes(include=np.number) > 0).all(1)]"
   ]
  },
  {
   "cell_type": "markdown",
   "metadata": {},
   "source": [
    "## Average annual CO2 United States choropleth: \"countyco2_vs_year.html\""
   ]
  },
  {
   "cell_type": "code",
   "execution_count": 38,
   "metadata": {},
   "outputs": [
    {
     "data": {
      "text/plain": [
       "'images/countyco2_vs_year.html'"
      ]
     },
     "execution_count": 38,
     "metadata": {},
     "output_type": "execute_result"
    }
   ],
   "source": [
    "fig = px.choropleth(svi_co2, geojson=counties_map, locations='STCNTY', color='adj_xco2',\n",
    "                        color_continuous_scale=\"Bluered\",\n",
    "                        animation_frame='year',\n",
    "                        #hover_data=['xco2','COUNTY','STATE'],\n",
    "                        hover_data={'STCNTY':False, 'year':False, 'STATE':True, 'COUNTY':True, 'xco2':True, 'adj_xco2':False},\n",
    "                        scope=\"usa\",\n",
    "                        range_color=(0,1),\n",
    "                        width=800,\n",
    "                        height=600,\n",
    "                        )\n",
    "fig.update(layout_coloraxis_showscale=False)\n",
    "#fig.update_layout(\n",
    "    #title_text = '2011 US Agriculture Exports by State')\n",
    "\n",
    "plotly.offline.plot(fig, filename='images/countyco2_vs_year.html', auto_play = False)"
   ]
  },
  {
   "cell_type": "markdown",
   "metadata": {},
   "source": [
    "## CO2 3-year percent change United States choropleth: \"countyco2_vs_pctchange.html\""
   ]
  },
  {
   "cell_type": "code",
   "execution_count": 6,
   "metadata": {},
   "outputs": [
    {
     "data": {
      "text/plain": [
       "'images/countyco2_vs_pctchange.html'"
      ]
     },
     "execution_count": 6,
     "metadata": {},
     "output_type": "execute_result"
    }
   ],
   "source": [
    "fig = px.choropleth(svi_co2, geojson=counties_map, locations='STCNTY', color='co2_3yr_pct_change',\n",
    "                        color_continuous_scale=\"Bluered\",\n",
    "                        #hover_data=['xco2','COUNTY','STATE'],\n",
    "                        hover_data={'STCNTY':False, 'year':False, 'STATE':True, 'COUNTY':True, 'xco2':True, 'adj_xco2':False},\n",
    "                        scope=\"usa\",\n",
    "                        #range_color=(0,1),\n",
    "                        width=800,\n",
    "                        height=600,\n",
    "                        )\n",
    "fig.update(layout_coloraxis_showscale=False)\n",
    "plotly.offline.plot(fig, filename='images/countyco2_vs_pctchange.html', auto_play = False)"
   ]
  },
  {
   "cell_type": "markdown",
   "metadata": {},
   "source": [
    "## SVI: Overall SVI United States choropleth: \"svi_vs_year.html\""
   ]
  },
  {
   "cell_type": "code",
   "execution_count": 7,
   "metadata": {},
   "outputs": [
    {
     "data": {
      "text/plain": [
       "'images/svi_vs_year.html'"
      ]
     },
     "execution_count": 7,
     "metadata": {},
     "output_type": "execute_result"
    }
   ],
   "source": [
    "fig = px.choropleth(svi_co2, geojson=counties_map, locations='STCNTY', color='RPL_THEMES',\n",
    "                        color_continuous_scale=\"Bluered\",\n",
    "                        animation_frame='year',\n",
    "                        hover_data={'STCNTY':False, 'year':False, 'STATE':True, 'COUNTY':True},\n",
    "                        scope=\"usa\",\n",
    "                        range_color=(0.5,1),\n",
    "                        width=800,\n",
    "                        height=600,\n",
    "                        )\n",
    "fig.update(layout_coloraxis_showscale=False)\n",
    "plotly.offline.plot(fig, filename='images/svi_vs_year.html', auto_play = False)"
   ]
  },
  {
   "cell_type": "markdown",
   "metadata": {},
   "source": [
    "## SVI: Social Economic Status United States choropleth: \"soc_econ_status.html\""
   ]
  },
  {
   "cell_type": "code",
   "execution_count": 8,
   "metadata": {},
   "outputs": [
    {
     "data": {
      "text/plain": [
       "'images/soc_econ_status.html'"
      ]
     },
     "execution_count": 8,
     "metadata": {},
     "output_type": "execute_result"
    }
   ],
   "source": [
    "fig = px.choropleth(svi_co2, geojson=counties_map, locations='STCNTY', color='RPL_THEME1',\n",
    "                        color_continuous_scale=\"Bluered\",\n",
    "                        animation_frame='year',\n",
    "                        hover_data={'STCNTY':False, 'year':False, 'STATE':True, 'COUNTY':True},\n",
    "                        scope=\"usa\",\n",
    "                        range_color=(0.5,1),\n",
    "                        width=800,\n",
    "                        height=600,\n",
    "                        )\n",
    "fig.update(layout_coloraxis_showscale=False)\n",
    "plotly.offline.plot(fig, filename='images/soc_econ_status.html', auto_play = False)"
   ]
  },
  {
   "cell_type": "markdown",
   "metadata": {},
   "source": [
    "## SVI: Housing Characterisitics United States Choropleth: \"house_char.html\" "
   ]
  },
  {
   "cell_type": "code",
   "execution_count": 9,
   "metadata": {},
   "outputs": [
    {
     "data": {
      "text/plain": [
       "'images/house_char.html'"
      ]
     },
     "execution_count": 9,
     "metadata": {},
     "output_type": "execute_result"
    }
   ],
   "source": [
    "fig = px.choropleth(svi_co2, geojson=counties_map, locations='STCNTY', color='RPL_THEME2',\n",
    "                        color_continuous_scale=\"Bluered\",\n",
    "                        animation_frame='year',\n",
    "                        hover_data={'STCNTY':False, 'year':False, 'STATE':True, 'COUNTY':True},\n",
    "                        scope=\"usa\",\n",
    "                        range_color=(0.5,1),\n",
    "                        width=800,\n",
    "                        height=600,\n",
    "                        )\n",
    "fig.update(layout_coloraxis_showscale=False)\n",
    "plotly.offline.plot(fig, filename='images/house_char.html', auto_play = False)"
   ]
  },
  {
   "cell_type": "markdown",
   "metadata": {},
   "source": [
    "## SVI: Racial and Ethnic Minority Status United States choropleth: \"rac_ethn_min_status.html\""
   ]
  },
  {
   "cell_type": "code",
   "execution_count": 10,
   "metadata": {},
   "outputs": [
    {
     "data": {
      "text/plain": [
       "'images/rac_ethn_min_status.html'"
      ]
     },
     "execution_count": 10,
     "metadata": {},
     "output_type": "execute_result"
    }
   ],
   "source": [
    "fig = px.choropleth(svi_co2, geojson=counties_map, locations='STCNTY', color='RPL_THEME3',\n",
    "                        color_continuous_scale=\"Bluered\",\n",
    "                        animation_frame='year',\n",
    "                        hover_data={'STCNTY':False, 'year':False, 'STATE':True, 'COUNTY':True},\n",
    "                        scope=\"usa\",\n",
    "                        range_color=(0.5,1),\n",
    "                        width=800,\n",
    "                        height=600,\n",
    "                        )\n",
    "fig.update(layout_coloraxis_showscale=False)\n",
    "plotly.offline.plot(fig, filename='images/rac_ethn_min_status.html', auto_play = False)"
   ]
  },
  {
   "cell_type": "markdown",
   "metadata": {},
   "source": [
    "## SVI: Housing and Transportation United States choropleth: \"hous_transp.html\""
   ]
  },
  {
   "cell_type": "code",
   "execution_count": 11,
   "metadata": {},
   "outputs": [
    {
     "data": {
      "text/plain": [
       "'images/hous_transp.html'"
      ]
     },
     "execution_count": 11,
     "metadata": {},
     "output_type": "execute_result"
    }
   ],
   "source": [
    "fig = px.choropleth(svi_co2, geojson=counties_map, locations='STCNTY', color='RPL_THEME4',\n",
    "                        color_continuous_scale=\"Bluered\",\n",
    "                        animation_frame='year',\n",
    "                        hover_data={'STCNTY':False, 'year':False, 'STATE':True, 'COUNTY':True},\n",
    "                        scope=\"usa\",\n",
    "                        range_color=(0.5,1),\n",
    "                        width=800,\n",
    "                        height=600,\n",
    "                        )\n",
    "fig.update(layout_coloraxis_showscale=False)\n",
    "plotly.offline.plot(fig, filename='images/hous_transp.html', auto_play = False)"
   ]
  },
  {
   "cell_type": "markdown",
   "metadata": {},
   "source": [
    "# Post-Clustering"
   ]
  },
  {
   "cell_type": "markdown",
   "metadata": {},
   "source": [
    "## DBSCAN"
   ]
  },
  {
   "cell_type": "code",
   "execution_count": 12,
   "metadata": {},
   "outputs": [
    {
     "data": {
      "text/plain": [
       "\"DBSCAN_1=pd.read_pickle('data\\\\dbscan_tot_pct_change_fin_1')\\nDBSCAN_1.describe()\\nDBSCAN_1.head()\""
      ]
     },
     "execution_count": 12,
     "metadata": {},
     "output_type": "execute_result"
    }
   ],
   "source": [
    "\"\"\"DBSCAN_1=pd.read_pickle('data\\dbscan_tot_pct_change_fin_1')\n",
    "DBSCAN_1.describe()\n",
    "DBSCAN_1.head()\"\"\""
   ]
  },
  {
   "cell_type": "markdown",
   "metadata": {},
   "source": [
    "### DBSCAN choropleth grouping"
   ]
  },
  {
   "cell_type": "code",
   "execution_count": 13,
   "metadata": {},
   "outputs": [
    {
     "data": {
      "text/plain": [
       "'fig = px.choropleth(DBSCAN_1, geojson=counties_map, locations=\\'STCNTY\\', color=\\'Cluster\\',\\n                        #color_discrete_map=\"Bluered\",\\n                        #animation_frame=\\'year\\',\\n                        #hover_data={\\'STCNTY\\':False, \\'year\\':False, \\'STATE\\':True, \\'COUNTY\\':True},\\n                        scope=\"usa\",\\n                        #range_color=(0.5,1),\\n                        width=800,\\n                        height=600,\\n                        )\\nfig.update(layout_coloraxis_showscale=False)\\nplotly.offline.plot(fig, filename=\\'images/DBSCAN_1.html\\', auto_play = False)'"
      ]
     },
     "execution_count": 13,
     "metadata": {},
     "output_type": "execute_result"
    }
   ],
   "source": [
    "\"\"\"fig = px.choropleth(DBSCAN_1, geojson=counties_map, locations='STCNTY', color='Cluster',\n",
    "                        #color_discrete_map=\"Bluered\",\n",
    "                        #animation_frame='year',\n",
    "                        #hover_data={'STCNTY':False, 'year':False, 'STATE':True, 'COUNTY':True},\n",
    "                        scope=\"usa\",\n",
    "                        #range_color=(0.5,1),\n",
    "                        width=800,\n",
    "                        height=600,\n",
    "                        )\n",
    "fig.update(layout_coloraxis_showscale=False)\n",
    "plotly.offline.plot(fig, filename='images/DBSCAN_1.html', auto_play = False)\"\"\""
   ]
  },
  {
   "cell_type": "markdown",
   "metadata": {},
   "source": [
    "## Kmeans_1 Clustering"
   ]
  },
  {
   "cell_type": "code",
   "execution_count": 14,
   "metadata": {},
   "outputs": [
    {
     "data": {
      "text/plain": [
       "\"kmeans_1=pd.read_pickle('data\\\\kmeans_1')\\nkmeans_1.describe()\\nkmeans_1.head()\\n\""
      ]
     },
     "execution_count": 14,
     "metadata": {},
     "output_type": "execute_result"
    }
   ],
   "source": [
    "\"\"\"kmeans_1=pd.read_pickle('data\\kmeans_1')\n",
    "kmeans_1.describe()\n",
    "kmeans_1.head()\n",
    "\"\"\""
   ]
  },
  {
   "cell_type": "markdown",
   "metadata": {},
   "source": [
    "### Kmeans_1 Choropleth Grouping"
   ]
  },
  {
   "cell_type": "code",
   "execution_count": 15,
   "metadata": {},
   "outputs": [
    {
     "data": {
      "text/plain": [
       "'fig = px.choropleth(kmeans_1, geojson=counties_map, locations=\\'STCNTY\\', color=\\'Cluster\\',\\n                        #color_discrete_map=\"Bluered\",\\n                        #animation_frame=\\'year\\',\\n                        #hover_data={\\'STCNTY\\':False, \\'year\\':False, \\'STATE\\':True, \\'COUNTY\\':True},\\n                        scope=\"usa\",\\n                        #range_color=(0.5,1),\\n                        width=800,\\n                        height=600,\\n                        )\\nfig.update(layout_coloraxis_showscale=False)\\nplotly.offline.plot(fig, filename=\\'images/kmeans_1.html\\', auto_play = False)'"
      ]
     },
     "execution_count": 15,
     "metadata": {},
     "output_type": "execute_result"
    }
   ],
   "source": [
    "\"\"\"fig = px.choropleth(kmeans_1, geojson=counties_map, locations='STCNTY', color='Cluster',\n",
    "                        #color_discrete_map=\"Bluered\",\n",
    "                        #animation_frame='year',\n",
    "                        #hover_data={'STCNTY':False, 'year':False, 'STATE':True, 'COUNTY':True},\n",
    "                        scope=\"usa\",\n",
    "                        #range_color=(0.5,1),\n",
    "                        width=800,\n",
    "                        height=600,\n",
    "                        )\n",
    "fig.update(layout_coloraxis_showscale=False)\n",
    "plotly.offline.plot(fig, filename='images/kmeans_1.html', auto_play = False)\"\"\""
   ]
  },
  {
   "cell_type": "markdown",
   "metadata": {},
   "source": [
    "## Kmeans_2"
   ]
  },
  {
   "cell_type": "code",
   "execution_count": 16,
   "metadata": {},
   "outputs": [
    {
     "data": {
      "text/html": [
       "<div>\n",
       "<style scoped>\n",
       "    .dataframe tbody tr th:only-of-type {\n",
       "        vertical-align: middle;\n",
       "    }\n",
       "\n",
       "    .dataframe tbody tr th {\n",
       "        vertical-align: top;\n",
       "    }\n",
       "\n",
       "    .dataframe thead tr th {\n",
       "        text-align: left;\n",
       "    }\n",
       "\n",
       "    .dataframe thead tr:last-of-type th {\n",
       "        text-align: right;\n",
       "    }\n",
       "</style>\n",
       "<table border=\"1\" class=\"dataframe\">\n",
       "  <thead>\n",
       "    <tr>\n",
       "      <th>features</th>\n",
       "      <th colspan=\"6\" halign=\"left\">Mean</th>\n",
       "      <th colspan=\"6\" halign=\"left\">Slope</th>\n",
       "      <th>Cluster</th>\n",
       "    </tr>\n",
       "    <tr>\n",
       "      <th>columns</th>\n",
       "      <th>avg_co2</th>\n",
       "      <th>socioeconomic</th>\n",
       "      <th>household_comp</th>\n",
       "      <th>minority_status</th>\n",
       "      <th>housing_type</th>\n",
       "      <th>overall_svi</th>\n",
       "      <th>avg_co2</th>\n",
       "      <th>socioeconomic</th>\n",
       "      <th>household_comp</th>\n",
       "      <th>minority_status</th>\n",
       "      <th>housing_type</th>\n",
       "      <th>overall_svi</th>\n",
       "      <th></th>\n",
       "    </tr>\n",
       "    <tr>\n",
       "      <th>STCNTY</th>\n",
       "      <th></th>\n",
       "      <th></th>\n",
       "      <th></th>\n",
       "      <th></th>\n",
       "      <th></th>\n",
       "      <th></th>\n",
       "      <th></th>\n",
       "      <th></th>\n",
       "      <th></th>\n",
       "      <th></th>\n",
       "      <th></th>\n",
       "      <th></th>\n",
       "      <th></th>\n",
       "    </tr>\n",
       "  </thead>\n",
       "  <tbody>\n",
       "    <tr>\n",
       "      <th>01001</th>\n",
       "      <td>-0.136573</td>\n",
       "      <td>-0.00337</td>\n",
       "      <td>0.431947</td>\n",
       "      <td>0.378759</td>\n",
       "      <td>-0.468915</td>\n",
       "      <td>0.004686</td>\n",
       "      <td>0.0</td>\n",
       "      <td>0.002621</td>\n",
       "      <td>0.310602</td>\n",
       "      <td>0.062464</td>\n",
       "      <td>0.247309</td>\n",
       "      <td>0.006586</td>\n",
       "      <td>0</td>\n",
       "    </tr>\n",
       "    <tr>\n",
       "      <th>01003</th>\n",
       "      <td>1.036684</td>\n",
       "      <td>-0.011139</td>\n",
       "      <td>-0.949547</td>\n",
       "      <td>-0.034898</td>\n",
       "      <td>-0.542345</td>\n",
       "      <td>-0.012253</td>\n",
       "      <td>0.0</td>\n",
       "      <td>0.001805</td>\n",
       "      <td>0.11548</td>\n",
       "      <td>-0.047064</td>\n",
       "      <td>0.049877</td>\n",
       "      <td>0.001679</td>\n",
       "      <td>0</td>\n",
       "    </tr>\n",
       "    <tr>\n",
       "      <th>01005</th>\n",
       "      <td>0.430327</td>\n",
       "      <td>0.055996</td>\n",
       "      <td>1.43624</td>\n",
       "      <td>1.280591</td>\n",
       "      <td>1.634598</td>\n",
       "      <td>0.057995</td>\n",
       "      <td>0.0</td>\n",
       "      <td>-0.000976</td>\n",
       "      <td>0.106997</td>\n",
       "      <td>0.069904</td>\n",
       "      <td>0.110319</td>\n",
       "      <td>0.000388</td>\n",
       "      <td>2</td>\n",
       "    </tr>\n",
       "    <tr>\n",
       "      <th>01007</th>\n",
       "      <td>-0.136573</td>\n",
       "      <td>0.036518</td>\n",
       "      <td>-0.838049</td>\n",
       "      <td>0.075725</td>\n",
       "      <td>0.863807</td>\n",
       "      <td>0.025914</td>\n",
       "      <td>0.0</td>\n",
       "      <td>0.002985</td>\n",
       "      <td>0.777372</td>\n",
       "      <td>0.22044</td>\n",
       "      <td>0.339271</td>\n",
       "      <td>0.011362</td>\n",
       "      <td>2</td>\n",
       "    </tr>\n",
       "    <tr>\n",
       "      <th>01009</th>\n",
       "      <td>0.143244</td>\n",
       "      <td>0.02168</td>\n",
       "      <td>0.009038</td>\n",
       "      <td>0.124289</td>\n",
       "      <td>-1.002326</td>\n",
       "      <td>0.008271</td>\n",
       "      <td>0.0</td>\n",
       "      <td>-0.004135</td>\n",
       "      <td>0.443396</td>\n",
       "      <td>-0.31924</td>\n",
       "      <td>0.158638</td>\n",
       "      <td>0.000733</td>\n",
       "      <td>0</td>\n",
       "    </tr>\n",
       "  </tbody>\n",
       "</table>\n",
       "</div>"
      ],
      "text/plain": [
       "features      Mean                                                            \\\n",
       "columns    avg_co2 socioeconomic household_comp minority_status housing_type   \n",
       "STCNTY                                                                         \n",
       "01001    -0.136573      -0.00337       0.431947        0.378759    -0.468915   \n",
       "01003     1.036684     -0.011139      -0.949547       -0.034898    -0.542345   \n",
       "01005     0.430327      0.055996        1.43624        1.280591     1.634598   \n",
       "01007    -0.136573      0.036518      -0.838049        0.075725     0.863807   \n",
       "01009     0.143244       0.02168       0.009038        0.124289    -1.002326   \n",
       "\n",
       "features               Slope                                               \\\n",
       "columns  overall_svi avg_co2 socioeconomic household_comp minority_status   \n",
       "STCNTY                                                                      \n",
       "01001       0.004686     0.0      0.002621       0.310602        0.062464   \n",
       "01003      -0.012253     0.0      0.001805        0.11548       -0.047064   \n",
       "01005       0.057995     0.0     -0.000976       0.106997        0.069904   \n",
       "01007       0.025914     0.0      0.002985       0.777372         0.22044   \n",
       "01009       0.008271     0.0     -0.004135       0.443396        -0.31924   \n",
       "\n",
       "features                          Cluster  \n",
       "columns  housing_type overall_svi          \n",
       "STCNTY                                     \n",
       "01001        0.247309    0.006586       0  \n",
       "01003        0.049877    0.001679       0  \n",
       "01005        0.110319    0.000388       2  \n",
       "01007        0.339271    0.011362       2  \n",
       "01009        0.158638    0.000733       0  "
      ]
     },
     "metadata": {},
     "output_type": "display_data"
    },
    {
     "data": {
      "text/html": [
       "<div>\n",
       "<style scoped>\n",
       "    .dataframe tbody tr th:only-of-type {\n",
       "        vertical-align: middle;\n",
       "    }\n",
       "\n",
       "    .dataframe tbody tr th {\n",
       "        vertical-align: top;\n",
       "    }\n",
       "\n",
       "    .dataframe thead th {\n",
       "        text-align: right;\n",
       "    }\n",
       "</style>\n",
       "<table border=\"1\" class=\"dataframe\">\n",
       "  <thead>\n",
       "    <tr style=\"text-align: right;\">\n",
       "      <th></th>\n",
       "      <th>Cluster</th>\n",
       "      <th>STCNTY</th>\n",
       "      <th>avg_co2</th>\n",
       "      <th>socioeconomic</th>\n",
       "      <th>household_comp</th>\n",
       "      <th>minority_status</th>\n",
       "      <th>housing_type</th>\n",
       "      <th>overall_svi</th>\n",
       "    </tr>\n",
       "  </thead>\n",
       "  <tbody>\n",
       "    <tr>\n",
       "      <th>0</th>\n",
       "      <td>0</td>\n",
       "      <td>01001</td>\n",
       "      <td>-0.136573</td>\n",
       "      <td>-0.00337</td>\n",
       "      <td>0.431947</td>\n",
       "      <td>0.378759</td>\n",
       "      <td>-0.468915</td>\n",
       "      <td>0.004686</td>\n",
       "    </tr>\n",
       "    <tr>\n",
       "      <th>1</th>\n",
       "      <td>0</td>\n",
       "      <td>01003</td>\n",
       "      <td>1.036684</td>\n",
       "      <td>-0.011139</td>\n",
       "      <td>-0.949547</td>\n",
       "      <td>-0.034898</td>\n",
       "      <td>-0.542345</td>\n",
       "      <td>-0.012253</td>\n",
       "    </tr>\n",
       "    <tr>\n",
       "      <th>2</th>\n",
       "      <td>2</td>\n",
       "      <td>01005</td>\n",
       "      <td>0.430327</td>\n",
       "      <td>0.055996</td>\n",
       "      <td>1.43624</td>\n",
       "      <td>1.280591</td>\n",
       "      <td>1.634598</td>\n",
       "      <td>0.057995</td>\n",
       "    </tr>\n",
       "    <tr>\n",
       "      <th>3</th>\n",
       "      <td>2</td>\n",
       "      <td>01007</td>\n",
       "      <td>-0.136573</td>\n",
       "      <td>0.036518</td>\n",
       "      <td>-0.838049</td>\n",
       "      <td>0.075725</td>\n",
       "      <td>0.863807</td>\n",
       "      <td>0.025914</td>\n",
       "    </tr>\n",
       "    <tr>\n",
       "      <th>4</th>\n",
       "      <td>0</td>\n",
       "      <td>01009</td>\n",
       "      <td>0.143244</td>\n",
       "      <td>0.02168</td>\n",
       "      <td>0.009038</td>\n",
       "      <td>0.124289</td>\n",
       "      <td>-1.002326</td>\n",
       "      <td>0.008271</td>\n",
       "    </tr>\n",
       "  </tbody>\n",
       "</table>\n",
       "</div>"
      ],
      "text/plain": [
       "   Cluster STCNTY   avg_co2 socioeconomic household_comp minority_status  \\\n",
       "0        0  01001 -0.136573      -0.00337       0.431947        0.378759   \n",
       "1        0  01003  1.036684     -0.011139      -0.949547       -0.034898   \n",
       "2        2  01005  0.430327      0.055996        1.43624        1.280591   \n",
       "3        2  01007 -0.136573      0.036518      -0.838049        0.075725   \n",
       "4        0  01009  0.143244       0.02168       0.009038        0.124289   \n",
       "\n",
       "  housing_type overall_svi  \n",
       "0    -0.468915    0.004686  \n",
       "1    -0.542345   -0.012253  \n",
       "2     1.634598    0.057995  \n",
       "3     0.863807    0.025914  \n",
       "4    -1.002326    0.008271  "
      ]
     },
     "metadata": {},
     "output_type": "display_data"
    },
    {
     "name": "stdout",
     "output_type": "stream",
     "text": [
      "   Cluster   avg_co2 socioeconomic household_comp minority_status  \\\n",
      "0        0  0.388067      0.003915      -0.133425       -0.580031   \n",
      "1        1  0.736647    -32.311281       1.344248        1.571743   \n",
      "2        2   0.41281      0.028303       0.455696        0.866102   \n",
      "3        3 -1.362418     -0.010231      -0.568012       -0.535517   \n",
      "\n",
      "  housing_type overall_svi  \n",
      "0    -0.562688   -0.002881  \n",
      "1     0.069231  -32.306259  \n",
      "2     0.744218    0.035115  \n",
      "3     -0.35134   -0.010721  \n"
     ]
    },
    {
     "data": {
      "text/html": [
       "<div>\n",
       "<style scoped>\n",
       "    .dataframe tbody tr th:only-of-type {\n",
       "        vertical-align: middle;\n",
       "    }\n",
       "\n",
       "    .dataframe tbody tr th {\n",
       "        vertical-align: top;\n",
       "    }\n",
       "\n",
       "    .dataframe thead th {\n",
       "        text-align: right;\n",
       "    }\n",
       "</style>\n",
       "<table border=\"1\" class=\"dataframe\">\n",
       "  <thead>\n",
       "    <tr style=\"text-align: right;\">\n",
       "      <th></th>\n",
       "      <th>socioeconomic</th>\n",
       "      <th>household_comp</th>\n",
       "      <th>minority_status</th>\n",
       "      <th>avg_co2</th>\n",
       "      <th>housing_type</th>\n",
       "      <th>overall_svi</th>\n",
       "    </tr>\n",
       "  </thead>\n",
       "  <tbody>\n",
       "    <tr>\n",
       "      <th>0</th>\n",
       "      <td>0.003915</td>\n",
       "      <td>-0.133425</td>\n",
       "      <td>-0.580031</td>\n",
       "      <td>0.388067</td>\n",
       "      <td>-0.562688</td>\n",
       "      <td>-0.002881</td>\n",
       "    </tr>\n",
       "    <tr>\n",
       "      <th>1</th>\n",
       "      <td>-32.311281</td>\n",
       "      <td>1.344248</td>\n",
       "      <td>1.571743</td>\n",
       "      <td>0.736647</td>\n",
       "      <td>0.069231</td>\n",
       "      <td>-32.306259</td>\n",
       "    </tr>\n",
       "    <tr>\n",
       "      <th>2</th>\n",
       "      <td>0.028303</td>\n",
       "      <td>0.455696</td>\n",
       "      <td>0.866102</td>\n",
       "      <td>0.41281</td>\n",
       "      <td>0.744218</td>\n",
       "      <td>0.035115</td>\n",
       "    </tr>\n",
       "    <tr>\n",
       "      <th>3</th>\n",
       "      <td>-0.010231</td>\n",
       "      <td>-0.568012</td>\n",
       "      <td>-0.535517</td>\n",
       "      <td>-1.362418</td>\n",
       "      <td>-0.35134</td>\n",
       "      <td>-0.010721</td>\n",
       "    </tr>\n",
       "  </tbody>\n",
       "</table>\n",
       "</div>"
      ],
      "text/plain": [
       "  socioeconomic household_comp minority_status   avg_co2 housing_type  \\\n",
       "0      0.003915      -0.133425       -0.580031  0.388067    -0.562688   \n",
       "1    -32.311281       1.344248        1.571743  0.736647     0.069231   \n",
       "2      0.028303       0.455696        0.866102   0.41281     0.744218   \n",
       "3     -0.010231      -0.568012       -0.535517 -1.362418     -0.35134   \n",
       "\n",
       "  overall_svi  \n",
       "0   -0.002881  \n",
       "1  -32.306259  \n",
       "2    0.035115  \n",
       "3   -0.010721  "
      ]
     },
     "metadata": {},
     "output_type": "display_data"
    }
   ],
   "source": [
    "cluster_data3=pd.read_pickle('data\\kmeans_2')\n",
    "display(cluster_data3.head())\n",
    "kmeans_2=pd.DataFrame()\n",
    "kmeans_2['Cluster']=cluster_data3['Cluster'].reset_index().iloc[:,1]\n",
    "\n",
    "\n",
    "for_concat=cluster_data3['Mean'].reset_index()\n",
    "kmeans_2=pd.concat([kmeans_2,for_concat],axis=1)\n",
    "display(kmeans_2.head())\n",
    "\n",
    "kmeans_2.drop(columns=['STCNTY'], inplace=True)\n",
    "kmeans_2_grouped=kmeans_2.groupby([\"Cluster\"],as_index=False).mean()\n",
    "print(kmeans_2_grouped)\n",
    "kmeans_2_grouped.drop(columns=['Cluster',\n",
    "                               #'total_population',\n",
    "                               #'housing_units', \n",
    "                               #'num_households',\n",
    "                               #'unemployment'\n",
    "                               ], inplace=True)\n",
    "\n",
    "kmeans_2_grouped=kmeans_2_grouped[[ 'socioeconomic', 'household_comp', 'minority_status', 'avg_co2', 'housing_type', 'overall_svi']]\n",
    "\n",
    "display(kmeans_2_grouped)"
   ]
  },
  {
   "cell_type": "markdown",
   "metadata": {},
   "source": [
    "### Kmeans_2 Seperate Radar Plots"
   ]
  },
  {
   "cell_type": "code",
   "execution_count": 17,
   "metadata": {},
   "outputs": [
    {
     "data": {
      "text/plain": [
       "\"fig = make_subplots(rows=1, cols=4, specs=[[{'type': 'polar'}] * 4] * 1)\\n\\ncategories = np.array(kmeans_2_grouped.columns)\\n\\n#creating a figure\\nfig.add_trace(go.Scatterpolar(\\n      r=np.array(kmeans_2_grouped.iloc[0,:]),\\n      theta=categories,\\n      fill='toself',\\n      fillcolor='#636EFA',\\n      name='Cluster 0'\\n),row=1,col=1)\\n\\nfig.add_trace(go.Scatterpolar(\\n      r=np.array(kmeans_2_grouped.iloc[1,:]),\\n      theta=categories,\\n      fill='toself',\\n      fillcolor='#AB63FA',\\n      name='Cluster 1'\\n),row=1,col=2)\\n\\nfig.add_trace(go.Scatterpolar(\\n      r=np.array(kmeans_2_grouped.iloc[2,:]),\\n      theta=categories,\\n      fill='toself',\\n      fillcolor='#00CC96',\\n      name='Cluster 2'\\n),row=1,col=3)\\n\\nfig.add_trace(go.Scatterpolar(\\n      r=np.array(kmeans_2_grouped.iloc[3,:]),\\n      theta=categories,\\n      fill='toself',\\n      fillcolor='#EF553B',\\n      name='Cluster 3'\\n),row=1,col=4)\\n\\n\\nfig.update_layout(\\n  polar=dict(\\n    radialaxis=dict(\\n      visible=True,\\n      #range=[0, 5]\\n    )),\\n  showlegend=True\\n)\\n\\nfig.update_polars(radialaxis=dict(visible=True,range=[-2, 2]))\\n\\nfig.show()\\n\\n\""
      ]
     },
     "execution_count": 17,
     "metadata": {},
     "output_type": "execute_result"
    }
   ],
   "source": [
    "\"\"\"fig = make_subplots(rows=1, cols=4, specs=[[{'type': 'polar'}] * 4] * 1)\n",
    "\n",
    "categories = np.array(kmeans_2_grouped.columns)\n",
    "\n",
    "#creating a figure\n",
    "fig.add_trace(go.Scatterpolar(\n",
    "      r=np.array(kmeans_2_grouped.iloc[0,:]),\n",
    "      theta=categories,\n",
    "      fill='toself',\n",
    "      fillcolor='#636EFA',\n",
    "      name='Cluster 0'\n",
    "),row=1,col=1)\n",
    "\n",
    "fig.add_trace(go.Scatterpolar(\n",
    "      r=np.array(kmeans_2_grouped.iloc[1,:]),\n",
    "      theta=categories,\n",
    "      fill='toself',\n",
    "      fillcolor='#AB63FA',\n",
    "      name='Cluster 1'\n",
    "),row=1,col=2)\n",
    "\n",
    "fig.add_trace(go.Scatterpolar(\n",
    "      r=np.array(kmeans_2_grouped.iloc[2,:]),\n",
    "      theta=categories,\n",
    "      fill='toself',\n",
    "      fillcolor='#00CC96',\n",
    "      name='Cluster 2'\n",
    "),row=1,col=3)\n",
    "\n",
    "fig.add_trace(go.Scatterpolar(\n",
    "      r=np.array(kmeans_2_grouped.iloc[3,:]),\n",
    "      theta=categories,\n",
    "      fill='toself',\n",
    "      fillcolor='#EF553B',\n",
    "      name='Cluster 3'\n",
    "),row=1,col=4)\n",
    "\n",
    "\n",
    "fig.update_layout(\n",
    "  polar=dict(\n",
    "    radialaxis=dict(\n",
    "      visible=True,\n",
    "      #range=[0, 5]\n",
    "    )),\n",
    "  showlegend=True\n",
    ")\n",
    "\n",
    "fig.update_polars(radialaxis=dict(visible=True,range=[-2, 2]))\n",
    "\n",
    "fig.show()\n",
    "\n",
    "\"\"\""
   ]
  },
  {
   "cell_type": "code",
   "execution_count": 48,
   "metadata": {},
   "outputs": [
    {
     "name": "stdout",
     "output_type": "stream",
     "text": [
      "Index(['Socioeconomic Status', 'Household Characteristics',\n",
      "       'Racial & Ethnic Minority Status', '4 Year Column Averaged CO2',\n",
      "       'Housing Type & Transportation', 'overall_svi'],\n",
      "      dtype='object')\n",
      "['Socioeconomic Status' 'Household Characteristics'\n",
      " 'Racial & Ethnic Minority Status' '4 Year Column Averaged CO2'\n",
      " 'Housing Type & Transportation' 'Overall Vulnerability']\n"
     ]
    }
   ],
   "source": [
    "print(kmeans_2_grouped.columns)\n",
    "kmeans_2_grouped.columns=['Socioeconomic Status','Household Characteristics','Racial & Ethnic Minority Status','4 Year Column Averaged CO2','Housing Type & Transportation','Overall Vulnerability']\n",
    "categories = np.array(kmeans_2_grouped.columns)\n",
    "print(categories)"
   ]
  },
  {
   "cell_type": "markdown",
   "metadata": {},
   "source": [
    "Kmeans_2 Single Radar Plot"
   ]
  },
  {
   "cell_type": "code",
   "execution_count": 49,
   "metadata": {},
   "outputs": [
    {
     "data": {
      "application/vnd.plotly.v1+json": {
       "config": {
        "plotlyServerURL": "https://plot.ly"
       },
       "data": [
        {
         "fill": "toself",
         "fillcolor": "#636EFA",
         "line": {
          "color": "#636EFA"
         },
         "name": "Cluster 0",
         "opacity": 0.5,
         "r": [
          0.003914995067314847,
          -0.13342539962845207,
          -0.580030712389517,
          0.38806724689998195,
          -0.5626879741035666,
          -0.0028814030344613624
         ],
         "theta": [
          "Socioeconomic Status",
          "Household Characteristics",
          "Racial & Ethnic Minority Status",
          "4 Year Column Averaged CO2",
          "Housing Type & Transportation",
          "Overall Vulnerability"
         ],
         "type": "scatterpolar"
        },
        {
         "fill": "toself",
         "fillcolor": "#EF553B",
         "line": {
          "color": "#EF553B"
         },
         "name": "Cluster 1",
         "opacity": 0.5,
         "r": [
          -32.311280766042536,
          1.3442477773128385,
          1.571743260391005,
          0.7366473984343663,
          0.06923084784732751,
          -32.30625852108656
         ],
         "theta": [
          "Socioeconomic Status",
          "Household Characteristics",
          "Racial & Ethnic Minority Status",
          "4 Year Column Averaged CO2",
          "Housing Type & Transportation",
          "Overall Vulnerability"
         ],
         "type": "scatterpolar"
        },
        {
         "fill": "toself",
         "fillcolor": "#00CC96",
         "line": {
          "color": "#00CC96"
         },
         "name": "Cluster 2",
         "opacity": 0.5,
         "r": [
          0.028302972885525027,
          0.45569644031879825,
          0.8661018700572206,
          0.4128095241713388,
          0.7442179276483596,
          0.03511513777120876
         ],
         "theta": [
          "Socioeconomic Status",
          "Household Characteristics",
          "Racial & Ethnic Minority Status",
          "4 Year Column Averaged CO2",
          "Housing Type & Transportation",
          "Overall Vulnerability"
         ],
         "type": "scatterpolar"
        },
        {
         "fill": "toself",
         "fillcolor": "#AB63FA",
         "line": {
          "color": "#AB63FA"
         },
         "name": "Cluster 3",
         "opacity": 0.5,
         "r": [
          -0.010230680723383505,
          -0.5680123516925528,
          -0.5355169610123567,
          -1.3624179213356606,
          -0.3513396570023029,
          -0.0107214888795376
         ],
         "theta": [
          "Socioeconomic Status",
          "Household Characteristics",
          "Racial & Ethnic Minority Status",
          "4 Year Column Averaged CO2",
          "Housing Type & Transportation",
          "Overall Vulnerability"
         ],
         "type": "scatterpolar"
        }
       ],
       "layout": {
        "polar": {
         "radialaxis": {
          "range": [
           -2,
           2
          ],
          "visible": true
         }
        },
        "showlegend": true,
        "template": {
         "data": {
          "bar": [
           {
            "error_x": {
             "color": "#2a3f5f"
            },
            "error_y": {
             "color": "#2a3f5f"
            },
            "marker": {
             "line": {
              "color": "#E5ECF6",
              "width": 0.5
             },
             "pattern": {
              "fillmode": "overlay",
              "size": 10,
              "solidity": 0.2
             }
            },
            "type": "bar"
           }
          ],
          "barpolar": [
           {
            "marker": {
             "line": {
              "color": "#E5ECF6",
              "width": 0.5
             },
             "pattern": {
              "fillmode": "overlay",
              "size": 10,
              "solidity": 0.2
             }
            },
            "type": "barpolar"
           }
          ],
          "carpet": [
           {
            "aaxis": {
             "endlinecolor": "#2a3f5f",
             "gridcolor": "white",
             "linecolor": "white",
             "minorgridcolor": "white",
             "startlinecolor": "#2a3f5f"
            },
            "baxis": {
             "endlinecolor": "#2a3f5f",
             "gridcolor": "white",
             "linecolor": "white",
             "minorgridcolor": "white",
             "startlinecolor": "#2a3f5f"
            },
            "type": "carpet"
           }
          ],
          "choropleth": [
           {
            "colorbar": {
             "outlinewidth": 0,
             "ticks": ""
            },
            "type": "choropleth"
           }
          ],
          "contour": [
           {
            "colorbar": {
             "outlinewidth": 0,
             "ticks": ""
            },
            "colorscale": [
             [
              0,
              "#0d0887"
             ],
             [
              0.1111111111111111,
              "#46039f"
             ],
             [
              0.2222222222222222,
              "#7201a8"
             ],
             [
              0.3333333333333333,
              "#9c179e"
             ],
             [
              0.4444444444444444,
              "#bd3786"
             ],
             [
              0.5555555555555556,
              "#d8576b"
             ],
             [
              0.6666666666666666,
              "#ed7953"
             ],
             [
              0.7777777777777778,
              "#fb9f3a"
             ],
             [
              0.8888888888888888,
              "#fdca26"
             ],
             [
              1,
              "#f0f921"
             ]
            ],
            "type": "contour"
           }
          ],
          "contourcarpet": [
           {
            "colorbar": {
             "outlinewidth": 0,
             "ticks": ""
            },
            "type": "contourcarpet"
           }
          ],
          "heatmap": [
           {
            "colorbar": {
             "outlinewidth": 0,
             "ticks": ""
            },
            "colorscale": [
             [
              0,
              "#0d0887"
             ],
             [
              0.1111111111111111,
              "#46039f"
             ],
             [
              0.2222222222222222,
              "#7201a8"
             ],
             [
              0.3333333333333333,
              "#9c179e"
             ],
             [
              0.4444444444444444,
              "#bd3786"
             ],
             [
              0.5555555555555556,
              "#d8576b"
             ],
             [
              0.6666666666666666,
              "#ed7953"
             ],
             [
              0.7777777777777778,
              "#fb9f3a"
             ],
             [
              0.8888888888888888,
              "#fdca26"
             ],
             [
              1,
              "#f0f921"
             ]
            ],
            "type": "heatmap"
           }
          ],
          "heatmapgl": [
           {
            "colorbar": {
             "outlinewidth": 0,
             "ticks": ""
            },
            "colorscale": [
             [
              0,
              "#0d0887"
             ],
             [
              0.1111111111111111,
              "#46039f"
             ],
             [
              0.2222222222222222,
              "#7201a8"
             ],
             [
              0.3333333333333333,
              "#9c179e"
             ],
             [
              0.4444444444444444,
              "#bd3786"
             ],
             [
              0.5555555555555556,
              "#d8576b"
             ],
             [
              0.6666666666666666,
              "#ed7953"
             ],
             [
              0.7777777777777778,
              "#fb9f3a"
             ],
             [
              0.8888888888888888,
              "#fdca26"
             ],
             [
              1,
              "#f0f921"
             ]
            ],
            "type": "heatmapgl"
           }
          ],
          "histogram": [
           {
            "marker": {
             "pattern": {
              "fillmode": "overlay",
              "size": 10,
              "solidity": 0.2
             }
            },
            "type": "histogram"
           }
          ],
          "histogram2d": [
           {
            "colorbar": {
             "outlinewidth": 0,
             "ticks": ""
            },
            "colorscale": [
             [
              0,
              "#0d0887"
             ],
             [
              0.1111111111111111,
              "#46039f"
             ],
             [
              0.2222222222222222,
              "#7201a8"
             ],
             [
              0.3333333333333333,
              "#9c179e"
             ],
             [
              0.4444444444444444,
              "#bd3786"
             ],
             [
              0.5555555555555556,
              "#d8576b"
             ],
             [
              0.6666666666666666,
              "#ed7953"
             ],
             [
              0.7777777777777778,
              "#fb9f3a"
             ],
             [
              0.8888888888888888,
              "#fdca26"
             ],
             [
              1,
              "#f0f921"
             ]
            ],
            "type": "histogram2d"
           }
          ],
          "histogram2dcontour": [
           {
            "colorbar": {
             "outlinewidth": 0,
             "ticks": ""
            },
            "colorscale": [
             [
              0,
              "#0d0887"
             ],
             [
              0.1111111111111111,
              "#46039f"
             ],
             [
              0.2222222222222222,
              "#7201a8"
             ],
             [
              0.3333333333333333,
              "#9c179e"
             ],
             [
              0.4444444444444444,
              "#bd3786"
             ],
             [
              0.5555555555555556,
              "#d8576b"
             ],
             [
              0.6666666666666666,
              "#ed7953"
             ],
             [
              0.7777777777777778,
              "#fb9f3a"
             ],
             [
              0.8888888888888888,
              "#fdca26"
             ],
             [
              1,
              "#f0f921"
             ]
            ],
            "type": "histogram2dcontour"
           }
          ],
          "mesh3d": [
           {
            "colorbar": {
             "outlinewidth": 0,
             "ticks": ""
            },
            "type": "mesh3d"
           }
          ],
          "parcoords": [
           {
            "line": {
             "colorbar": {
              "outlinewidth": 0,
              "ticks": ""
             }
            },
            "type": "parcoords"
           }
          ],
          "pie": [
           {
            "automargin": true,
            "type": "pie"
           }
          ],
          "scatter": [
           {
            "fillpattern": {
             "fillmode": "overlay",
             "size": 10,
             "solidity": 0.2
            },
            "type": "scatter"
           }
          ],
          "scatter3d": [
           {
            "line": {
             "colorbar": {
              "outlinewidth": 0,
              "ticks": ""
             }
            },
            "marker": {
             "colorbar": {
              "outlinewidth": 0,
              "ticks": ""
             }
            },
            "type": "scatter3d"
           }
          ],
          "scattercarpet": [
           {
            "marker": {
             "colorbar": {
              "outlinewidth": 0,
              "ticks": ""
             }
            },
            "type": "scattercarpet"
           }
          ],
          "scattergeo": [
           {
            "marker": {
             "colorbar": {
              "outlinewidth": 0,
              "ticks": ""
             }
            },
            "type": "scattergeo"
           }
          ],
          "scattergl": [
           {
            "marker": {
             "colorbar": {
              "outlinewidth": 0,
              "ticks": ""
             }
            },
            "type": "scattergl"
           }
          ],
          "scattermapbox": [
           {
            "marker": {
             "colorbar": {
              "outlinewidth": 0,
              "ticks": ""
             }
            },
            "type": "scattermapbox"
           }
          ],
          "scatterpolar": [
           {
            "marker": {
             "colorbar": {
              "outlinewidth": 0,
              "ticks": ""
             }
            },
            "type": "scatterpolar"
           }
          ],
          "scatterpolargl": [
           {
            "marker": {
             "colorbar": {
              "outlinewidth": 0,
              "ticks": ""
             }
            },
            "type": "scatterpolargl"
           }
          ],
          "scatterternary": [
           {
            "marker": {
             "colorbar": {
              "outlinewidth": 0,
              "ticks": ""
             }
            },
            "type": "scatterternary"
           }
          ],
          "surface": [
           {
            "colorbar": {
             "outlinewidth": 0,
             "ticks": ""
            },
            "colorscale": [
             [
              0,
              "#0d0887"
             ],
             [
              0.1111111111111111,
              "#46039f"
             ],
             [
              0.2222222222222222,
              "#7201a8"
             ],
             [
              0.3333333333333333,
              "#9c179e"
             ],
             [
              0.4444444444444444,
              "#bd3786"
             ],
             [
              0.5555555555555556,
              "#d8576b"
             ],
             [
              0.6666666666666666,
              "#ed7953"
             ],
             [
              0.7777777777777778,
              "#fb9f3a"
             ],
             [
              0.8888888888888888,
              "#fdca26"
             ],
             [
              1,
              "#f0f921"
             ]
            ],
            "type": "surface"
           }
          ],
          "table": [
           {
            "cells": {
             "fill": {
              "color": "#EBF0F8"
             },
             "line": {
              "color": "white"
             }
            },
            "header": {
             "fill": {
              "color": "#C8D4E3"
             },
             "line": {
              "color": "white"
             }
            },
            "type": "table"
           }
          ]
         },
         "layout": {
          "annotationdefaults": {
           "arrowcolor": "#2a3f5f",
           "arrowhead": 0,
           "arrowwidth": 1
          },
          "autotypenumbers": "strict",
          "coloraxis": {
           "colorbar": {
            "outlinewidth": 0,
            "ticks": ""
           }
          },
          "colorscale": {
           "diverging": [
            [
             0,
             "#8e0152"
            ],
            [
             0.1,
             "#c51b7d"
            ],
            [
             0.2,
             "#de77ae"
            ],
            [
             0.3,
             "#f1b6da"
            ],
            [
             0.4,
             "#fde0ef"
            ],
            [
             0.5,
             "#f7f7f7"
            ],
            [
             0.6,
             "#e6f5d0"
            ],
            [
             0.7,
             "#b8e186"
            ],
            [
             0.8,
             "#7fbc41"
            ],
            [
             0.9,
             "#4d9221"
            ],
            [
             1,
             "#276419"
            ]
           ],
           "sequential": [
            [
             0,
             "#0d0887"
            ],
            [
             0.1111111111111111,
             "#46039f"
            ],
            [
             0.2222222222222222,
             "#7201a8"
            ],
            [
             0.3333333333333333,
             "#9c179e"
            ],
            [
             0.4444444444444444,
             "#bd3786"
            ],
            [
             0.5555555555555556,
             "#d8576b"
            ],
            [
             0.6666666666666666,
             "#ed7953"
            ],
            [
             0.7777777777777778,
             "#fb9f3a"
            ],
            [
             0.8888888888888888,
             "#fdca26"
            ],
            [
             1,
             "#f0f921"
            ]
           ],
           "sequentialminus": [
            [
             0,
             "#0d0887"
            ],
            [
             0.1111111111111111,
             "#46039f"
            ],
            [
             0.2222222222222222,
             "#7201a8"
            ],
            [
             0.3333333333333333,
             "#9c179e"
            ],
            [
             0.4444444444444444,
             "#bd3786"
            ],
            [
             0.5555555555555556,
             "#d8576b"
            ],
            [
             0.6666666666666666,
             "#ed7953"
            ],
            [
             0.7777777777777778,
             "#fb9f3a"
            ],
            [
             0.8888888888888888,
             "#fdca26"
            ],
            [
             1,
             "#f0f921"
            ]
           ]
          },
          "colorway": [
           "#636efa",
           "#EF553B",
           "#00cc96",
           "#ab63fa",
           "#FFA15A",
           "#19d3f3",
           "#FF6692",
           "#B6E880",
           "#FF97FF",
           "#FECB52"
          ],
          "font": {
           "color": "#2a3f5f"
          },
          "geo": {
           "bgcolor": "white",
           "lakecolor": "white",
           "landcolor": "#E5ECF6",
           "showlakes": true,
           "showland": true,
           "subunitcolor": "white"
          },
          "hoverlabel": {
           "align": "left"
          },
          "hovermode": "closest",
          "mapbox": {
           "style": "light"
          },
          "paper_bgcolor": "white",
          "plot_bgcolor": "#E5ECF6",
          "polar": {
           "angularaxis": {
            "gridcolor": "white",
            "linecolor": "white",
            "ticks": ""
           },
           "bgcolor": "#E5ECF6",
           "radialaxis": {
            "gridcolor": "white",
            "linecolor": "white",
            "ticks": ""
           }
          },
          "scene": {
           "xaxis": {
            "backgroundcolor": "#E5ECF6",
            "gridcolor": "white",
            "gridwidth": 2,
            "linecolor": "white",
            "showbackground": true,
            "ticks": "",
            "zerolinecolor": "white"
           },
           "yaxis": {
            "backgroundcolor": "#E5ECF6",
            "gridcolor": "white",
            "gridwidth": 2,
            "linecolor": "white",
            "showbackground": true,
            "ticks": "",
            "zerolinecolor": "white"
           },
           "zaxis": {
            "backgroundcolor": "#E5ECF6",
            "gridcolor": "white",
            "gridwidth": 2,
            "linecolor": "white",
            "showbackground": true,
            "ticks": "",
            "zerolinecolor": "white"
           }
          },
          "shapedefaults": {
           "line": {
            "color": "#2a3f5f"
           }
          },
          "ternary": {
           "aaxis": {
            "gridcolor": "white",
            "linecolor": "white",
            "ticks": ""
           },
           "baxis": {
            "gridcolor": "white",
            "linecolor": "white",
            "ticks": ""
           },
           "bgcolor": "#E5ECF6",
           "caxis": {
            "gridcolor": "white",
            "linecolor": "white",
            "ticks": ""
           }
          },
          "title": {
           "x": 0.05
          },
          "xaxis": {
           "automargin": true,
           "gridcolor": "white",
           "linecolor": "white",
           "ticks": "",
           "title": {
            "standoff": 15
           },
           "zerolinecolor": "white",
           "zerolinewidth": 2
          },
          "yaxis": {
           "automargin": true,
           "gridcolor": "white",
           "linecolor": "white",
           "ticks": "",
           "title": {
            "standoff": 15
           },
           "zerolinecolor": "white",
           "zerolinewidth": 2
          }
         }
        }
       }
      }
     },
     "metadata": {},
     "output_type": "display_data"
    },
    {
     "data": {
      "text/plain": [
       "'images/radar.html'"
      ]
     },
     "execution_count": 49,
     "metadata": {},
     "output_type": "execute_result"
    }
   ],
   "source": [
    "#categories = np.array(kmeans_2_grouped.columns)\n",
    "\n",
    "\n",
    "fig = go.Figure()\n",
    "\n",
    "#creating a figure\n",
    "fig.add_trace(go.Scatterpolar(\n",
    "      r=np.array(kmeans_2_grouped.iloc[0,:]),\n",
    "      theta=categories,\n",
    "      fill='toself',\n",
    "      fillcolor='#636EFA',\n",
    "      line=dict(color=\"#636EFA\"),\n",
    "      opacity = 0.5,\n",
    "      name='Cluster 0'\n",
    "))\n",
    "\n",
    "fig.add_trace(go.Scatterpolar(\n",
    "      r=np.array(kmeans_2_grouped.iloc[1,:]),\n",
    "      theta=categories,\n",
    "      fill='toself',\n",
    "      fillcolor='#EF553B',\n",
    "      line=dict(color=\"#EF553B\"),\n",
    "      opacity = 0.5,\n",
    "      name='Cluster 1'\n",
    "))\n",
    "\n",
    "fig.add_trace(go.Scatterpolar(\n",
    "      r=np.array(kmeans_2_grouped.iloc[2,:]),\n",
    "      theta=categories,\n",
    "      fill='toself',\n",
    "      fillcolor='#00CC96',\n",
    "      line=dict(color=\"#00CC96\"),\n",
    "      opacity = 0.5,\n",
    "      name='Cluster 2'\n",
    "))\n",
    "\n",
    "fig.add_trace(go.Scatterpolar(\n",
    "      r=np.array(kmeans_2_grouped.iloc[3,:]),\n",
    "      theta=categories,\n",
    "      fill='toself',\n",
    "      fillcolor='#AB63FA',\n",
    "      line=dict(color=\"#AB63FA\"),\n",
    "      opacity = 0.5,\n",
    "      name='Cluster 3'\n",
    "))\n",
    "\n",
    "\n",
    "fig.update_layout(\n",
    "  polar=dict(\n",
    "    radialaxis=dict(\n",
    "      visible=True,\n",
    "      #range=[0, 5]\n",
    "    )),\n",
    "  showlegend=True\n",
    ")\n",
    "\n",
    "fig.update_polars(radialaxis=dict(visible=True,range=[-2, 2]))\n",
    "\n",
    "\n",
    "\n",
    "fig.show()\n",
    "\n",
    "plotly.offline.plot(fig, filename='images/radar.html', auto_play = False)"
   ]
  },
  {
   "cell_type": "markdown",
   "metadata": {},
   "source": [
    "### Kmeans_2 data for choropleth map"
   ]
  },
  {
   "cell_type": "code",
   "execution_count": 19,
   "metadata": {},
   "outputs": [
    {
     "data": {
      "text/html": [
       "<div>\n",
       "<style scoped>\n",
       "    .dataframe tbody tr th:only-of-type {\n",
       "        vertical-align: middle;\n",
       "    }\n",
       "\n",
       "    .dataframe tbody tr th {\n",
       "        vertical-align: top;\n",
       "    }\n",
       "\n",
       "    .dataframe thead th {\n",
       "        text-align: right;\n",
       "    }\n",
       "</style>\n",
       "<table border=\"1\" class=\"dataframe\">\n",
       "  <thead>\n",
       "    <tr style=\"text-align: right;\">\n",
       "      <th></th>\n",
       "      <th>STCNTY</th>\n",
       "      <th>STATE</th>\n",
       "      <th>COUNTY</th>\n",
       "      <th>total_population</th>\n",
       "      <th>housing_units</th>\n",
       "      <th>num_households</th>\n",
       "      <th>unemployment</th>\n",
       "      <th>socioeconomic</th>\n",
       "      <th>household_comp</th>\n",
       "      <th>minority_status</th>\n",
       "      <th>housing_type</th>\n",
       "      <th>overall_svi</th>\n",
       "      <th>xco2</th>\n",
       "      <th>Cluster</th>\n",
       "    </tr>\n",
       "  </thead>\n",
       "  <tbody>\n",
       "    <tr>\n",
       "      <th>0</th>\n",
       "      <td>01001</td>\n",
       "      <td>Alabama</td>\n",
       "      <td>Autauga</td>\n",
       "      <td>55639.0</td>\n",
       "      <td>23697.0</td>\n",
       "      <td>21559.0</td>\n",
       "      <td>736.0</td>\n",
       "      <td>0.3838</td>\n",
       "      <td>0.7362</td>\n",
       "      <td>0.6337</td>\n",
       "      <td>0.4309</td>\n",
       "      <td>0.5130</td>\n",
       "      <td>412.982466</td>\n",
       "      <td>0</td>\n",
       "    </tr>\n",
       "    <tr>\n",
       "      <th>1</th>\n",
       "      <td>01003</td>\n",
       "      <td>Alabama</td>\n",
       "      <td>Baldwin</td>\n",
       "      <td>218289.0</td>\n",
       "      <td>116747.0</td>\n",
       "      <td>84047.0</td>\n",
       "      <td>4027.0</td>\n",
       "      <td>0.3253</td>\n",
       "      <td>0.2724</td>\n",
       "      <td>0.5022</td>\n",
       "      <td>0.3612</td>\n",
       "      <td>0.3103</td>\n",
       "      <td>412.969150</td>\n",
       "      <td>0</td>\n",
       "    </tr>\n",
       "    <tr>\n",
       "      <th>2</th>\n",
       "      <td>01005</td>\n",
       "      <td>Alabama</td>\n",
       "      <td>Barbour</td>\n",
       "      <td>25026.0</td>\n",
       "      <td>12057.0</td>\n",
       "      <td>9322.0</td>\n",
       "      <td>649.0</td>\n",
       "      <td>0.9567</td>\n",
       "      <td>0.9453</td>\n",
       "      <td>0.8962</td>\n",
       "      <td>0.9949</td>\n",
       "      <td>0.9927</td>\n",
       "      <td>412.966158</td>\n",
       "      <td>2</td>\n",
       "    </tr>\n",
       "    <tr>\n",
       "      <th>3</th>\n",
       "      <td>01007</td>\n",
       "      <td>Alabama</td>\n",
       "      <td>Bibb</td>\n",
       "      <td>22374.0</td>\n",
       "      <td>9237.0</td>\n",
       "      <td>7259.0</td>\n",
       "      <td>667.0</td>\n",
       "      <td>0.8008</td>\n",
       "      <td>0.5512</td>\n",
       "      <td>0.6292</td>\n",
       "      <td>0.8622</td>\n",
       "      <td>0.8078</td>\n",
       "      <td>412.982466</td>\n",
       "      <td>2</td>\n",
       "    </tr>\n",
       "    <tr>\n",
       "      <th>4</th>\n",
       "      <td>01009</td>\n",
       "      <td>Alabama</td>\n",
       "      <td>Blount</td>\n",
       "      <td>57755.0</td>\n",
       "      <td>24404.0</td>\n",
       "      <td>21205.0</td>\n",
       "      <td>1253.0</td>\n",
       "      <td>0.5757</td>\n",
       "      <td>0.7225</td>\n",
       "      <td>0.4147</td>\n",
       "      <td>0.2743</td>\n",
       "      <td>0.5137</td>\n",
       "      <td>412.877848</td>\n",
       "      <td>0</td>\n",
       "    </tr>\n",
       "  </tbody>\n",
       "</table>\n",
       "</div>"
      ],
      "text/plain": [
       "  STCNTY    STATE   COUNTY  total_population  housing_units  num_households  \\\n",
       "0  01001  Alabama  Autauga           55639.0        23697.0         21559.0   \n",
       "1  01003  Alabama  Baldwin          218289.0       116747.0         84047.0   \n",
       "2  01005  Alabama  Barbour           25026.0        12057.0          9322.0   \n",
       "3  01007  Alabama     Bibb           22374.0         9237.0          7259.0   \n",
       "4  01009  Alabama   Blount           57755.0        24404.0         21205.0   \n",
       "\n",
       "   unemployment  socioeconomic  household_comp  minority_status  housing_type  \\\n",
       "0         736.0         0.3838          0.7362           0.6337        0.4309   \n",
       "1        4027.0         0.3253          0.2724           0.5022        0.3612   \n",
       "2         649.0         0.9567          0.9453           0.8962        0.9949   \n",
       "3         667.0         0.8008          0.5512           0.6292        0.8622   \n",
       "4        1253.0         0.5757          0.7225           0.4147        0.2743   \n",
       "\n",
       "   overall_svi        xco2  Cluster  \n",
       "0       0.5130  412.982466        0  \n",
       "1       0.3103  412.969150        0  \n",
       "2       0.9927  412.966158        2  \n",
       "3       0.8078  412.982466        2  \n",
       "4       0.5137  412.877848        0  "
      ]
     },
     "metadata": {},
     "output_type": "display_data"
    }
   ],
   "source": [
    "cluster_data4=pd.read_pickle('data\\kmeans_2_v2')\n",
    "cluster_data4.rename(columns={'E_TOTPOP':'total_population', 'E_HU':'housing_units',\n",
    "                             'E_HH':'num_households', 'E_UNEMP':'unemployment',\n",
    "                            'RPL_THEME1':'socioeconomic',\n",
    "                             'RPL_THEME2':'household_comp', 'RPL_THEME3':'minority_status', 'RPL_THEME4':'housing_type',\n",
    "                             'RPL_THEMES':'overall_svi'}, inplace=True)\n",
    "cluster_data4=cluster_data4[['STCNTY', 'STATE','COUNTY', 'total_population','housing_units','num_households','unemployment','socioeconomic','household_comp','minority_status','housing_type','overall_svi','xco2','Cluster']]\n",
    "display(cluster_data4.head())\n",
    "\n",
    "cluster_data4['Cluster'] = cluster_data4['Cluster'].astype(object)\n",
    "#svi_co2['co2_1yr_change'] = svi_co2.groupby(['STCNTY'])['xco2'].diff()"
   ]
  },
  {
   "cell_type": "markdown",
   "metadata": {},
   "source": [
    "### Kmeans_2 choropleth grouping"
   ]
  },
  {
   "cell_type": "code",
   "execution_count": 22,
   "metadata": {},
   "outputs": [
    {
     "data": {
      "text/plain": [
       "'images/clustered.html'"
      ]
     },
     "execution_count": 22,
     "metadata": {},
     "output_type": "execute_result"
    }
   ],
   "source": [
    "fig = px.choropleth(cluster_data4, geojson=counties_map, locations='STCNTY', color='Cluster',\n",
    "                        color_discrete_map={0:'#636EFA',1:'#EF553B',2:'#00CC96',3:'#AB63FA'},\n",
    "                        #animation_frame='year',\n",
    "                        hover_data={'STCNTY':False, 'STATE':True, 'COUNTY':True, \n",
    "                                    #'total_population':True,'housing_units':True,'num_households':True,\n",
    "                                    #'unemployment':True,'socioeconomic':True,'household_comp':True,'minority_status':True,'housing_type':True,'overall_svi':True,'xco2':True\n",
    "                                    },\n",
    "                        scope=\"usa\",\n",
    "                        #color_continuous_scale='Plasma',\n",
    "                        #range_color=(0.5,1),\n",
    "                        #width=1000,\n",
    "                        #height=600,\n",
    "                        )\n",
    "fig.update(layout_coloraxis_showscale=True)\n",
    "plotly.offline.plot(fig, filename='images/clustered.html', auto_play = False)"
   ]
  }
 ],
 "metadata": {
  "kernelspec": {
   "display_name": "Python 3",
   "language": "python",
   "name": "python3"
  },
  "language_info": {
   "codemirror_mode": {
    "name": "ipython",
    "version": 3
   },
   "file_extension": ".py",
   "mimetype": "text/x-python",
   "name": "python",
   "nbconvert_exporter": "python",
   "pygments_lexer": "ipython3",
   "version": "3.11.3"
  }
 },
 "nbformat": 4,
 "nbformat_minor": 2
}
