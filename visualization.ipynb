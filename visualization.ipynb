{
 "cells": [
  {
   "cell_type": "code",
   "execution_count": 1,
   "metadata": {},
   "outputs": [
    {
     "name": "stderr",
     "output_type": "stream",
     "text": [
      "C:\\Users\\ddrye\\AppData\\Roaming\\Python\\Python311\\site-packages\\libpysal\\cg\\alpha_shapes.py:38: NumbaDeprecationWarning: \u001b[1mThe 'nopython' keyword argument was not supplied to the 'numba.jit' decorator. The implicit default value for this argument is currently False, but it will be changed to True in Numba 0.59.0. See https://numba.readthedocs.io/en/stable/reference/deprecation.html#deprecation-of-object-mode-fall-back-behaviour-when-using-jit for details.\u001b[0m\n",
      "  @jit\n",
      "C:\\Users\\ddrye\\AppData\\Roaming\\Python\\Python311\\site-packages\\libpysal\\cg\\alpha_shapes.py:164: NumbaDeprecationWarning: \u001b[1mThe 'nopython' keyword argument was not supplied to the 'numba.jit' decorator. The implicit default value for this argument is currently False, but it will be changed to True in Numba 0.59.0. See https://numba.readthedocs.io/en/stable/reference/deprecation.html#deprecation-of-object-mode-fall-back-behaviour-when-using-jit for details.\u001b[0m\n",
      "  @jit\n",
      "C:\\Users\\ddrye\\AppData\\Roaming\\Python\\Python311\\site-packages\\libpysal\\cg\\alpha_shapes.py:198: NumbaDeprecationWarning: \u001b[1mThe 'nopython' keyword argument was not supplied to the 'numba.jit' decorator. The implicit default value for this argument is currently False, but it will be changed to True in Numba 0.59.0. See https://numba.readthedocs.io/en/stable/reference/deprecation.html#deprecation-of-object-mode-fall-back-behaviour-when-using-jit for details.\u001b[0m\n",
      "  @jit\n",
      "C:\\Users\\ddrye\\AppData\\Roaming\\Python\\Python311\\site-packages\\libpysal\\cg\\alpha_shapes.py:260: NumbaDeprecationWarning: \u001b[1mThe 'nopython' keyword argument was not supplied to the 'numba.jit' decorator. The implicit default value for this argument is currently False, but it will be changed to True in Numba 0.59.0. See https://numba.readthedocs.io/en/stable/reference/deprecation.html#deprecation-of-object-mode-fall-back-behaviour-when-using-jit for details.\u001b[0m\n",
      "  @jit\n"
     ]
    }
   ],
   "source": [
    "import pandas as pd\n",
    "import georasters as gr\n",
    "import os\n",
    "import geopandas as gpd\n",
    "from shapely.geometry import Point\n",
    "import urllib.request\n",
    "import json\n",
    "import plotly.express as px\n",
    "import urllib.request\n",
    "import json\n",
    "from shapely.geometry import Polygon\n",
    "import numpy as np\n",
    "import seaborn as sns\n",
    "import plotly"
   ]
  },
  {
   "cell_type": "code",
   "execution_count": 2,
   "metadata": {},
   "outputs": [],
   "source": [
    "request = urllib.request.Request('https://raw.githubusercontent.com/plotly/datasets/master/geojson-counties-fips.json')\n",
    "opener = urllib.request.build_opener()\n",
    "response = opener.open(request)\n",
    "counties_map = json.load(response)\n",
    "\n",
    "counties=gpd.GeoDataFrame.from_features(counties_map[\"features\"])\n",
    "id = pd.json_normalize(counties_map, record_path =['features'])[['id']]\n",
    "counties['geoid']=id"
   ]
  },
  {
   "cell_type": "code",
   "execution_count": 3,
   "metadata": {},
   "outputs": [],
   "source": [
    "svi_co2=pd.read_pickle('data\\dataset')"
   ]
  },
  {
   "cell_type": "code",
   "execution_count": 4,
   "metadata": {},
   "outputs": [],
   "source": [
    "pd.set_option('display.max_columns', None)\n",
    "svi_co2 = svi_co2[svi_co2['year'] != '2014'] \n",
    "#svi_co2=svi_co2[(svi_co2.select_dtypes(include=np.number) > 0).all(1)]"
   ]
  },
  {
   "cell_type": "code",
   "execution_count": null,
   "metadata": {},
   "outputs": [
    {
     "data": {
      "text/plain": [
       "'images/countyco2_vs_year.html'"
      ]
     },
     "execution_count": 5,
     "metadata": {},
     "output_type": "execute_result"
    }
   ],
   "source": [
    "fig = px.choropleth(svi_co2, geojson=counties_map, locations='STCNTY', color='adj_xco2',\n",
    "                        color_continuous_scale=\"Bluered\",\n",
    "                        animation_frame='year',\n",
    "                        #hover_data=['xco2','COUNTY','STATE'],\n",
    "                        hover_data={'STCNTY':False, 'year':False, 'STATE':True, 'COUNTY':True, 'xco2':True, 'adj_xco2':False},\n",
    "                        scope=\"usa\",\n",
    "                        range_color=(0,1),\n",
    "                        width=800,\n",
    "                        height=600,\n",
    "                        )\n",
    "fig.update(layout_coloraxis_showscale=False)\n",
    "plotly.offline.plot(fig, filename='images/countyco2_vs_year.html', auto_play = False)"
   ]
  },
  {
   "cell_type": "code",
   "execution_count": 6,
   "metadata": {},
   "outputs": [
    {
     "data": {
      "text/plain": [
       "'images/countyco2_vs_totalchange.html'"
      ]
     },
     "execution_count": 6,
     "metadata": {},
     "output_type": "execute_result"
    }
   ],
   "source": [
    "fig = px.choropleth(svi_co2, geojson=counties_map, locations='STCNTY', color='co2_3yr_pct_change',\n",
    "                        color_continuous_scale=\"Bluered\",\n",
    "                        animation_frame='year',\n",
    "                        #hover_data=['xco2','COUNTY','STATE'],\n",
    "                        hover_data={'STCNTY':False, 'year':False, 'STATE':True, 'COUNTY':True, 'xco2':True, 'adj_xco2':False},\n",
    "                        scope=\"usa\",\n",
    "                        #range_color=(0,1),\n",
    "                        width=800,\n",
    "                        height=600,\n",
    "                        )\n",
    "fig.update(layout_coloraxis_showscale=False)\n",
    "plotly.offline.plot(fig, filename='images/countyco2_vs_totalchange.html', auto_play = False)"
   ]
  },
  {
   "cell_type": "code",
   "execution_count": 6,
   "metadata": {},
   "outputs": [
    {
     "data": {
      "text/plain": [
       "'images/svi_vs_year.html'"
      ]
     },
     "execution_count": 6,
     "metadata": {},
     "output_type": "execute_result"
    }
   ],
   "source": [
    "fig = px.choropleth(svi_co2, geojson=counties_map, locations='STCNTY', color='RPL_THEMES',\n",
    "                        color_continuous_scale=\"Bluered\",\n",
    "                        animation_frame='year',\n",
    "                        hover_data={'STCNTY':False, 'year':False, 'STATE':True, 'COUNTY':True},\n",
    "                        scope=\"usa\",\n",
    "                        range_color=(0.5,1),\n",
    "                        width=800,\n",
    "                        height=600,\n",
    "                        )\n",
    "fig.update(layout_coloraxis_showscale=False)\n",
    "plotly.offline.plot(fig, filename='images/svi_vs_year.html', auto_play = False)"
   ]
  },
  {
   "cell_type": "code",
   "execution_count": 7,
   "metadata": {},
   "outputs": [
    {
     "data": {
      "text/plain": [
       "'images/soc_econ_status.html'"
      ]
     },
     "execution_count": 7,
     "metadata": {},
     "output_type": "execute_result"
    }
   ],
   "source": [
    "fig = px.choropleth(svi_co2, geojson=counties_map, locations='STCNTY', color='RPL_THEME1',\n",
    "                        color_continuous_scale=\"Bluered\",\n",
    "                        animation_frame='year',\n",
    "                        hover_data={'STCNTY':False, 'year':False, 'STATE':True, 'COUNTY':True},\n",
    "                        scope=\"usa\",\n",
    "                        range_color=(0.5,1),\n",
    "                        width=800,\n",
    "                        height=600,\n",
    "                        )\n",
    "fig.update(layout_coloraxis_showscale=False)\n",
    "plotly.offline.plot(fig, filename='images/soc_econ_status.html', auto_play = False)"
   ]
  },
  {
   "cell_type": "code",
   "execution_count": 8,
   "metadata": {},
   "outputs": [
    {
     "data": {
      "text/plain": [
       "'images/house_char.html'"
      ]
     },
     "execution_count": 8,
     "metadata": {},
     "output_type": "execute_result"
    }
   ],
   "source": [
    "fig = px.choropleth(svi_co2, geojson=counties_map, locations='STCNTY', color='RPL_THEME2',\n",
    "                        color_continuous_scale=\"Bluered\",\n",
    "                        animation_frame='year',\n",
    "                        hover_data={'STCNTY':False, 'year':False, 'STATE':True, 'COUNTY':True},\n",
    "                        scope=\"usa\",\n",
    "                        range_color=(0.5,1),\n",
    "                        width=800,\n",
    "                        height=600,\n",
    "                        )\n",
    "fig.update(layout_coloraxis_showscale=False)\n",
    "plotly.offline.plot(fig, filename='images/house_char.html', auto_play = False)"
   ]
  },
  {
   "cell_type": "code",
   "execution_count": 9,
   "metadata": {},
   "outputs": [
    {
     "data": {
      "text/plain": [
       "'images/rac_ethn_min_status.html'"
      ]
     },
     "execution_count": 9,
     "metadata": {},
     "output_type": "execute_result"
    }
   ],
   "source": [
    "fig = px.choropleth(svi_co2, geojson=counties_map, locations='STCNTY', color='RPL_THEME3',\n",
    "                        color_continuous_scale=\"Bluered\",\n",
    "                        animation_frame='year',\n",
    "                        hover_data={'STCNTY':False, 'year':False, 'STATE':True, 'COUNTY':True},\n",
    "                        scope=\"usa\",\n",
    "                        range_color=(0.5,1),\n",
    "                        width=800,\n",
    "                        height=600,\n",
    "                        )\n",
    "fig.update(layout_coloraxis_showscale=False)\n",
    "plotly.offline.plot(fig, filename='images/rac_ethn_min_status.html', auto_play = False)"
   ]
  },
  {
   "cell_type": "code",
   "execution_count": 10,
   "metadata": {},
   "outputs": [
    {
     "data": {
      "text/plain": [
       "'images/hous_transp.html'"
      ]
     },
     "execution_count": 10,
     "metadata": {},
     "output_type": "execute_result"
    }
   ],
   "source": [
    "fig = px.choropleth(svi_co2, geojson=counties_map, locations='STCNTY', color='RPL_THEME4',\n",
    "                        color_continuous_scale=\"Bluered\",\n",
    "                        animation_frame='year',\n",
    "                        hover_data={'STCNTY':False, 'year':False, 'STATE':True, 'COUNTY':True},\n",
    "                        scope=\"usa\",\n",
    "                        range_color=(0.5,1),\n",
    "                        width=800,\n",
    "                        height=600,\n",
    "                        )\n",
    "fig.update(layout_coloraxis_showscale=False)\n",
    "plotly.offline.plot(fig, filename='images/hous_transp.html', auto_play = False)"
   ]
  },
  {
   "cell_type": "code",
   "execution_count": null,
   "metadata": {},
   "outputs": [],
   "source": [
    "cluster_data1=pd.read_pickle('data\\data\\dbscan_tot_pct_change_fin_1')"
   ]
  }
 ],
 "metadata": {
  "kernelspec": {
   "display_name": "Python 3",
   "language": "python",
   "name": "python3"
  },
  "language_info": {
   "codemirror_mode": {
    "name": "ipython",
    "version": 3
   },
   "file_extension": ".py",
   "mimetype": "text/x-python",
   "name": "python",
   "nbconvert_exporter": "python",
   "pygments_lexer": "ipython3",
   "version": "3.11.3"
  }
 },
 "nbformat": 4,
 "nbformat_minor": 2
}
