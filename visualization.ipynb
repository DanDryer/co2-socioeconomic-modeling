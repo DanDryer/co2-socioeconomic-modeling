{
 "cells": [
  {
   "cell_type": "code",
   "execution_count": 33,
   "metadata": {},
   "outputs": [],
   "source": [
    "import pandas as pd\n",
    "import georasters as gr\n",
    "import os\n",
    "import geopandas as gpd\n",
    "from shapely.geometry import Point\n",
    "import urllib.request\n",
    "import json\n",
    "import plotly.express as px\n",
    "import urllib.request\n",
    "import json\n",
    "from shapely.geometry import Polygon\n",
    "import numpy as np\n",
    "import seaborn as sns\n",
    "import plotly"
   ]
  },
  {
   "cell_type": "code",
   "execution_count": 65,
   "metadata": {},
   "outputs": [],
   "source": [
    "request = urllib.request.Request('https://raw.githubusercontent.com/plotly/datasets/master/geojson-counties-fips.json')\n",
    "opener = urllib.request.build_opener()\n",
    "response = opener.open(request)\n",
    "counties_map = json.load(response)\n",
    "\n",
    "counties=gpd.GeoDataFrame.from_features(counties_map[\"features\"])\n",
    "id = pd.json_normalize(counties_map, record_path =['features'])[['id']]\n",
    "counties['geoid']=id"
   ]
  },
  {
   "cell_type": "code",
   "execution_count": 8,
   "metadata": {},
   "outputs": [],
   "source": [
    "svi_co2=pd.read_pickle('data\\dataset')"
   ]
  },
  {
   "cell_type": "code",
   "execution_count": 4,
   "metadata": {},
   "outputs": [],
   "source": [
    "pd.set_option('display.max_columns', None)\n",
    "svi_co2 = svi_co2[svi_co2['year'] != '2014'] \n",
    "#svi_co2=svi_co2[(svi_co2.select_dtypes(include=np.number) > 0).all(1)]"
   ]
  },
  {
   "cell_type": "code",
   "execution_count": null,
   "metadata": {},
   "outputs": [
    {
     "data": {
      "text/plain": [
       "'images/countyco2_vs_year.html'"
      ]
     },
     "execution_count": 5,
     "metadata": {},
     "output_type": "execute_result"
    }
   ],
   "source": [
    "fig = px.choropleth(svi_co2, geojson=counties_map, locations='STCNTY', color='adj_xco2',\n",
    "                        color_continuous_scale=\"Bluered\",\n",
    "                        animation_frame='year',\n",
    "                        #hover_data=['xco2','COUNTY','STATE'],\n",
    "                        hover_data={'STCNTY':False, 'year':False, 'STATE':True, 'COUNTY':True, 'xco2':True, 'adj_xco2':False},\n",
    "                        scope=\"usa\",\n",
    "                        range_color=(0,1),\n",
    "                        width=800,\n",
    "                        height=600,\n",
    "                        )\n",
    "fig.update(layout_coloraxis_showscale=False)\n",
    "plotly.offline.plot(fig, filename='images/countyco2_vs_year.html', auto_play = False)"
   ]
  },
  {
   "cell_type": "code",
   "execution_count": 6,
   "metadata": {},
   "outputs": [
    {
     "data": {
      "text/plain": [
       "'images/countyco2_vs_totalchange.html'"
      ]
     },
     "execution_count": 6,
     "metadata": {},
     "output_type": "execute_result"
    }
   ],
   "source": [
    "fig = px.choropleth(svi_co2, geojson=counties_map, locations='STCNTY', color='co2_3yr_pct_change',\n",
    "                        color_continuous_scale=\"Bluered\",\n",
    "                        animation_frame='year',\n",
    "                        #hover_data=['xco2','COUNTY','STATE'],\n",
    "                        hover_data={'STCNTY':False, 'year':False, 'STATE':True, 'COUNTY':True, 'xco2':True, 'adj_xco2':False},\n",
    "                        scope=\"usa\",\n",
    "                        #range_color=(0,1),\n",
    "                        width=800,\n",
    "                        height=600,\n",
    "                        )\n",
    "fig.update(layout_coloraxis_showscale=False)\n",
    "plotly.offline.plot(fig, filename='images/countyco2_vs_totalchange.html', auto_play = False)"
   ]
  },
  {
   "cell_type": "code",
   "execution_count": 6,
   "metadata": {},
   "outputs": [
    {
     "data": {
      "text/plain": [
       "'images/svi_vs_year.html'"
      ]
     },
     "execution_count": 6,
     "metadata": {},
     "output_type": "execute_result"
    }
   ],
   "source": [
    "fig = px.choropleth(svi_co2, geojson=counties_map, locations='STCNTY', color='RPL_THEMES',\n",
    "                        color_continuous_scale=\"Bluered\",\n",
    "                        animation_frame='year',\n",
    "                        hover_data={'STCNTY':False, 'year':False, 'STATE':True, 'COUNTY':True},\n",
    "                        scope=\"usa\",\n",
    "                        range_color=(0.5,1),\n",
    "                        width=800,\n",
    "                        height=600,\n",
    "                        )\n",
    "fig.update(layout_coloraxis_showscale=False)\n",
    "plotly.offline.plot(fig, filename='images/svi_vs_year.html', auto_play = False)"
   ]
  },
  {
   "cell_type": "code",
   "execution_count": 7,
   "metadata": {},
   "outputs": [
    {
     "data": {
      "text/plain": [
       "'images/soc_econ_status.html'"
      ]
     },
     "execution_count": 7,
     "metadata": {},
     "output_type": "execute_result"
    }
   ],
   "source": [
    "fig = px.choropleth(svi_co2, geojson=counties_map, locations='STCNTY', color='RPL_THEME1',\n",
    "                        color_continuous_scale=\"Bluered\",\n",
    "                        animation_frame='year',\n",
    "                        hover_data={'STCNTY':False, 'year':False, 'STATE':True, 'COUNTY':True},\n",
    "                        scope=\"usa\",\n",
    "                        range_color=(0.5,1),\n",
    "                        width=800,\n",
    "                        height=600,\n",
    "                        )\n",
    "fig.update(layout_coloraxis_showscale=False)\n",
    "plotly.offline.plot(fig, filename='images/soc_econ_status.html', auto_play = False)"
   ]
  },
  {
   "cell_type": "code",
   "execution_count": 8,
   "metadata": {},
   "outputs": [
    {
     "data": {
      "text/plain": [
       "'images/house_char.html'"
      ]
     },
     "execution_count": 8,
     "metadata": {},
     "output_type": "execute_result"
    }
   ],
   "source": [
    "fig = px.choropleth(svi_co2, geojson=counties_map, locations='STCNTY', color='RPL_THEME2',\n",
    "                        color_continuous_scale=\"Bluered\",\n",
    "                        animation_frame='year',\n",
    "                        hover_data={'STCNTY':False, 'year':False, 'STATE':True, 'COUNTY':True},\n",
    "                        scope=\"usa\",\n",
    "                        range_color=(0.5,1),\n",
    "                        width=800,\n",
    "                        height=600,\n",
    "                        )\n",
    "fig.update(layout_coloraxis_showscale=False)\n",
    "plotly.offline.plot(fig, filename='images/house_char.html', auto_play = False)"
   ]
  },
  {
   "cell_type": "code",
   "execution_count": 9,
   "metadata": {},
   "outputs": [
    {
     "data": {
      "text/plain": [
       "'images/rac_ethn_min_status.html'"
      ]
     },
     "execution_count": 9,
     "metadata": {},
     "output_type": "execute_result"
    }
   ],
   "source": [
    "fig = px.choropleth(svi_co2, geojson=counties_map, locations='STCNTY', color='RPL_THEME3',\n",
    "                        color_continuous_scale=\"Bluered\",\n",
    "                        animation_frame='year',\n",
    "                        hover_data={'STCNTY':False, 'year':False, 'STATE':True, 'COUNTY':True},\n",
    "                        scope=\"usa\",\n",
    "                        range_color=(0.5,1),\n",
    "                        width=800,\n",
    "                        height=600,\n",
    "                        )\n",
    "fig.update(layout_coloraxis_showscale=False)\n",
    "plotly.offline.plot(fig, filename='images/rac_ethn_min_status.html', auto_play = False)"
   ]
  },
  {
   "cell_type": "code",
   "execution_count": 10,
   "metadata": {},
   "outputs": [
    {
     "data": {
      "text/plain": [
       "'images/hous_transp.html'"
      ]
     },
     "execution_count": 10,
     "metadata": {},
     "output_type": "execute_result"
    }
   ],
   "source": [
    "fig = px.choropleth(svi_co2, geojson=counties_map, locations='STCNTY', color='RPL_THEME4',\n",
    "                        color_continuous_scale=\"Bluered\",\n",
    "                        animation_frame='year',\n",
    "                        hover_data={'STCNTY':False, 'year':False, 'STATE':True, 'COUNTY':True},\n",
    "                        scope=\"usa\",\n",
    "                        range_color=(0.5,1),\n",
    "                        width=800,\n",
    "                        height=600,\n",
    "                        )\n",
    "fig.update(layout_coloraxis_showscale=False)\n",
    "plotly.offline.plot(fig, filename='images/hous_transp.html', auto_play = False)"
   ]
  },
  {
   "cell_type": "code",
   "execution_count": 35,
   "metadata": {},
   "outputs": [
    {
     "data": {
      "text/html": [
       "<div>\n",
       "<style scoped>\n",
       "    .dataframe tbody tr th:only-of-type {\n",
       "        vertical-align: middle;\n",
       "    }\n",
       "\n",
       "    .dataframe tbody tr th {\n",
       "        vertical-align: top;\n",
       "    }\n",
       "\n",
       "    .dataframe thead th {\n",
       "        text-align: right;\n",
       "    }\n",
       "</style>\n",
       "<table border=\"1\" class=\"dataframe\">\n",
       "  <thead>\n",
       "    <tr style=\"text-align: right;\">\n",
       "      <th></th>\n",
       "      <th>xco2</th>\n",
       "      <th>total_population</th>\n",
       "      <th>housing_units</th>\n",
       "      <th>num_households</th>\n",
       "      <th>unemployment</th>\n",
       "      <th>socioeconomic</th>\n",
       "      <th>household_comp</th>\n",
       "      <th>minority_status</th>\n",
       "      <th>housing_type</th>\n",
       "      <th>overall_svi</th>\n",
       "      <th>co2_3yr_pct_change</th>\n",
       "      <th>Cluster</th>\n",
       "      <th>STCNTY</th>\n",
       "    </tr>\n",
       "  </thead>\n",
       "  <tbody>\n",
       "    <tr>\n",
       "      <th>0</th>\n",
       "      <td>0.265488</td>\n",
       "      <td>-0.145639</td>\n",
       "      <td>-0.158272</td>\n",
       "      <td>-0.147429</td>\n",
       "      <td>-0.199956</td>\n",
       "      <td>-0.402105</td>\n",
       "      <td>0.817798</td>\n",
       "      <td>0.467825</td>\n",
       "      <td>-0.238159</td>\n",
       "      <td>0.045659</td>\n",
       "      <td>0.024874</td>\n",
       "      <td>0</td>\n",
       "      <td>01001</td>\n",
       "    </tr>\n",
       "    <tr>\n",
       "      <th>1</th>\n",
       "      <td>0.224226</td>\n",
       "      <td>0.343919</td>\n",
       "      <td>0.563647</td>\n",
       "      <td>0.381506</td>\n",
       "      <td>0.114992</td>\n",
       "      <td>-0.604801</td>\n",
       "      <td>-0.788354</td>\n",
       "      <td>0.013408</td>\n",
       "      <td>-0.479596</td>\n",
       "      <td>-0.656487</td>\n",
       "      <td>-1.298708</td>\n",
       "      <td>0</td>\n",
       "      <td>01003</td>\n",
       "    </tr>\n",
       "    <tr>\n",
       "      <th>2</th>\n",
       "      <td>0.214955</td>\n",
       "      <td>-0.237781</td>\n",
       "      <td>-0.248579</td>\n",
       "      <td>-0.251011</td>\n",
       "      <td>-0.208282</td>\n",
       "      <td>1.582929</td>\n",
       "      <td>1.541917</td>\n",
       "      <td>1.374932</td>\n",
       "      <td>1.715502</td>\n",
       "      <td>1.707322</td>\n",
       "      <td>-0.342302</td>\n",
       "      <td>0</td>\n",
       "      <td>01005</td>\n",
       "    </tr>\n",
       "    <tr>\n",
       "      <th>3</th>\n",
       "      <td>0.265488</td>\n",
       "      <td>-0.245763</td>\n",
       "      <td>-0.270458</td>\n",
       "      <td>-0.268473</td>\n",
       "      <td>-0.206560</td>\n",
       "      <td>1.042753</td>\n",
       "      <td>0.177138</td>\n",
       "      <td>0.452275</td>\n",
       "      <td>1.255837</td>\n",
       "      <td>1.066835</td>\n",
       "      <td>0.024874</td>\n",
       "      <td>0</td>\n",
       "      <td>01007</td>\n",
       "    </tr>\n",
       "    <tr>\n",
       "      <th>4</th>\n",
       "      <td>-0.058696</td>\n",
       "      <td>-0.139270</td>\n",
       "      <td>-0.152787</td>\n",
       "      <td>-0.150426</td>\n",
       "      <td>-0.150480</td>\n",
       "      <td>0.262807</td>\n",
       "      <td>0.770354</td>\n",
       "      <td>-0.288961</td>\n",
       "      <td>-0.780612</td>\n",
       "      <td>0.048083</td>\n",
       "      <td>-0.398976</td>\n",
       "      <td>0</td>\n",
       "      <td>01009</td>\n",
       "    </tr>\n",
       "  </tbody>\n",
       "</table>\n",
       "</div>"
      ],
      "text/plain": [
       "       xco2  total_population  housing_units  num_households  unemployment  \\\n",
       "0  0.265488         -0.145639      -0.158272       -0.147429     -0.199956   \n",
       "1  0.224226          0.343919       0.563647        0.381506      0.114992   \n",
       "2  0.214955         -0.237781      -0.248579       -0.251011     -0.208282   \n",
       "3  0.265488         -0.245763      -0.270458       -0.268473     -0.206560   \n",
       "4 -0.058696         -0.139270      -0.152787       -0.150426     -0.150480   \n",
       "\n",
       "   socioeconomic  household_comp  minority_status  housing_type  overall_svi  \\\n",
       "0      -0.402105        0.817798         0.467825     -0.238159     0.045659   \n",
       "1      -0.604801       -0.788354         0.013408     -0.479596    -0.656487   \n",
       "2       1.582929        1.541917         1.374932      1.715502     1.707322   \n",
       "3       1.042753        0.177138         0.452275      1.255837     1.066835   \n",
       "4       0.262807        0.770354        -0.288961     -0.780612     0.048083   \n",
       "\n",
       "   co2_3yr_pct_change  Cluster STCNTY  \n",
       "0            0.024874        0  01001  \n",
       "1           -1.298708        0  01003  \n",
       "2           -0.342302        0  01005  \n",
       "3            0.024874        0  01007  \n",
       "4           -0.398976        0  01009  "
      ]
     },
     "execution_count": 35,
     "metadata": {},
     "output_type": "execute_result"
    }
   ],
   "source": [
    "cluster_data1=pd.read_pickle('data\\dbscan_tot_pct_change_fin_1')\n",
    "cluster_data1.describe()\n",
    "cluster_data1.head()\n",
    "\n",
    "#cluster_data1.loc[cluster_data1[\"Cluster\"] == -1, \"Cluster\"] = 5"
   ]
  },
  {
   "cell_type": "code",
   "execution_count": 36,
   "metadata": {},
   "outputs": [
    {
     "data": {
      "text/plain": [
       "'images/hous_transp.html'"
      ]
     },
     "execution_count": 36,
     "metadata": {},
     "output_type": "execute_result"
    }
   ],
   "source": [
    "fig = px.choropleth(cluster_data1, geojson=counties_map, locations='STCNTY', color='Cluster',\n",
    "                        #color_discrete_map=\"Bluered\",\n",
    "                        #animation_frame='year',\n",
    "                        #hover_data={'STCNTY':False, 'year':False, 'STATE':True, 'COUNTY':True},\n",
    "                        scope=\"usa\",\n",
    "                        #range_color=(0.5,1),\n",
    "                        width=800,\n",
    "                        height=600,\n",
    "                        )\n",
    "fig.update(layout_coloraxis_showscale=False)\n",
    "plotly.offline.plot(fig, filename='images/hous_transp.html', auto_play = False)"
   ]
  },
  {
   "cell_type": "code",
   "execution_count": 37,
   "metadata": {},
   "outputs": [
    {
     "data": {
      "text/html": [
       "<div>\n",
       "<style scoped>\n",
       "    .dataframe tbody tr th:only-of-type {\n",
       "        vertical-align: middle;\n",
       "    }\n",
       "\n",
       "    .dataframe tbody tr th {\n",
       "        vertical-align: top;\n",
       "    }\n",
       "\n",
       "    .dataframe thead th {\n",
       "        text-align: right;\n",
       "    }\n",
       "</style>\n",
       "<table border=\"1\" class=\"dataframe\">\n",
       "  <thead>\n",
       "    <tr style=\"text-align: right;\">\n",
       "      <th></th>\n",
       "      <th>index</th>\n",
       "      <th>STCNTY</th>\n",
       "      <th>Date</th>\n",
       "      <th>F_THEME1</th>\n",
       "      <th>E_HH</th>\n",
       "      <th>E_CROWD</th>\n",
       "      <th>EPL_UNEMP</th>\n",
       "      <th>EPL_LIMENG</th>\n",
       "      <th>M_LIMENG</th>\n",
       "      <th>EPL_DISABL</th>\n",
       "      <th>...</th>\n",
       "      <th>adj_xco2</th>\n",
       "      <th>STATE</th>\n",
       "      <th>LOCATION</th>\n",
       "      <th>COUNTY</th>\n",
       "      <th>ST_ABBR</th>\n",
       "      <th>co2_1yr_change</th>\n",
       "      <th>co2_3yr_change</th>\n",
       "      <th>co2_1yr_pct_change</th>\n",
       "      <th>co2_3yr_pct_change</th>\n",
       "      <th>Cluster</th>\n",
       "    </tr>\n",
       "  </thead>\n",
       "  <tbody>\n",
       "    <tr>\n",
       "      <th>0</th>\n",
       "      <td>2</td>\n",
       "      <td>01001</td>\n",
       "      <td>2020</td>\n",
       "      <td>0.0</td>\n",
       "      <td>21559.0</td>\n",
       "      <td>339.0</td>\n",
       "      <td>0.1397</td>\n",
       "      <td>0.4736</td>\n",
       "      <td>229.0</td>\n",
       "      <td>0.6830</td>\n",
       "      <td>...</td>\n",
       "      <td>0.085676</td>\n",
       "      <td>Alabama</td>\n",
       "      <td>Autauga County, Alabama</td>\n",
       "      <td>Autauga</td>\n",
       "      <td>AL</td>\n",
       "      <td>5.350950</td>\n",
       "      <td>9.508842</td>\n",
       "      <td>0.013127</td>\n",
       "      <td>0.023567</td>\n",
       "      <td>2</td>\n",
       "    </tr>\n",
       "    <tr>\n",
       "      <th>1</th>\n",
       "      <td>5</td>\n",
       "      <td>01003</td>\n",
       "      <td>2020</td>\n",
       "      <td>0.0</td>\n",
       "      <td>84047.0</td>\n",
       "      <td>1280.0</td>\n",
       "      <td>0.2861</td>\n",
       "      <td>0.5150</td>\n",
       "      <td>486.0</td>\n",
       "      <td>0.3689</td>\n",
       "      <td>...</td>\n",
       "      <td>0.072360</td>\n",
       "      <td>Alabama</td>\n",
       "      <td>Baldwin County, Alabama</td>\n",
       "      <td>Baldwin</td>\n",
       "      <td>AL</td>\n",
       "      <td>4.772215</td>\n",
       "      <td>8.978930</td>\n",
       "      <td>0.011691</td>\n",
       "      <td>0.022226</td>\n",
       "      <td>0</td>\n",
       "    </tr>\n",
       "    <tr>\n",
       "      <th>2</th>\n",
       "      <td>8</td>\n",
       "      <td>01005</td>\n",
       "      <td>2020</td>\n",
       "      <td>2.0</td>\n",
       "      <td>9322.0</td>\n",
       "      <td>350.0</td>\n",
       "      <td>0.8071</td>\n",
       "      <td>0.7460</td>\n",
       "      <td>205.0</td>\n",
       "      <td>0.7581</td>\n",
       "      <td>...</td>\n",
       "      <td>0.069368</td>\n",
       "      <td>Alabama</td>\n",
       "      <td>Barbour County, Alabama</td>\n",
       "      <td>Barbour</td>\n",
       "      <td>AL</td>\n",
       "      <td>4.932801</td>\n",
       "      <td>9.361689</td>\n",
       "      <td>0.012089</td>\n",
       "      <td>0.023195</td>\n",
       "      <td>5</td>\n",
       "    </tr>\n",
       "    <tr>\n",
       "      <th>3</th>\n",
       "      <td>11</td>\n",
       "      <td>01007</td>\n",
       "      <td>2020</td>\n",
       "      <td>0.0</td>\n",
       "      <td>7259.0</td>\n",
       "      <td>91.0</td>\n",
       "      <td>0.8485</td>\n",
       "      <td>0.3116</td>\n",
       "      <td>107.0</td>\n",
       "      <td>0.7101</td>\n",
       "      <td>...</td>\n",
       "      <td>0.085676</td>\n",
       "      <td>Alabama</td>\n",
       "      <td>Bibb County, Alabama</td>\n",
       "      <td>Bibb</td>\n",
       "      <td>AL</td>\n",
       "      <td>5.350950</td>\n",
       "      <td>9.508842</td>\n",
       "      <td>0.013127</td>\n",
       "      <td>0.023567</td>\n",
       "      <td>5</td>\n",
       "    </tr>\n",
       "    <tr>\n",
       "      <th>4</th>\n",
       "      <td>14</td>\n",
       "      <td>01009</td>\n",
       "      <td>2020</td>\n",
       "      <td>0.0</td>\n",
       "      <td>21205.0</td>\n",
       "      <td>385.0</td>\n",
       "      <td>0.5586</td>\n",
       "      <td>0.6986</td>\n",
       "      <td>263.0</td>\n",
       "      <td>0.4421</td>\n",
       "      <td>...</td>\n",
       "      <td>-0.018942</td>\n",
       "      <td>Alabama</td>\n",
       "      <td>Blount County, Alabama</td>\n",
       "      <td>Blount</td>\n",
       "      <td>AL</td>\n",
       "      <td>4.954031</td>\n",
       "      <td>9.337027</td>\n",
       "      <td>0.012145</td>\n",
       "      <td>0.023138</td>\n",
       "      <td>0</td>\n",
       "    </tr>\n",
       "  </tbody>\n",
       "</table>\n",
       "<p>5 rows × 124 columns</p>\n",
       "</div>"
      ],
      "text/plain": [
       "   index STCNTY  Date  F_THEME1     E_HH  E_CROWD  EPL_UNEMP  EPL_LIMENG  \\\n",
       "0      2  01001  2020       0.0  21559.0    339.0     0.1397      0.4736   \n",
       "1      5  01003  2020       0.0  84047.0   1280.0     0.2861      0.5150   \n",
       "2      8  01005  2020       2.0   9322.0    350.0     0.8071      0.7460   \n",
       "3     11  01007  2020       0.0   7259.0     91.0     0.8485      0.3116   \n",
       "4     14  01009  2020       0.0  21205.0    385.0     0.5586      0.6986   \n",
       "\n",
       "   M_LIMENG  EPL_DISABL  ...  adj_xco2    STATE                 LOCATION  \\\n",
       "0     229.0      0.6830  ...  0.085676  Alabama  Autauga County, Alabama   \n",
       "1     486.0      0.3689  ...  0.072360  Alabama  Baldwin County, Alabama   \n",
       "2     205.0      0.7581  ...  0.069368  Alabama  Barbour County, Alabama   \n",
       "3     107.0      0.7101  ...  0.085676  Alabama     Bibb County, Alabama   \n",
       "4     263.0      0.4421  ... -0.018942  Alabama   Blount County, Alabama   \n",
       "\n",
       "    COUNTY  ST_ABBR  co2_1yr_change  co2_3yr_change  co2_1yr_pct_change  \\\n",
       "0  Autauga       AL        5.350950        9.508842            0.013127   \n",
       "1  Baldwin       AL        4.772215        8.978930            0.011691   \n",
       "2  Barbour       AL        4.932801        9.361689            0.012089   \n",
       "3     Bibb       AL        5.350950        9.508842            0.013127   \n",
       "4   Blount       AL        4.954031        9.337027            0.012145   \n",
       "\n",
       "   co2_3yr_pct_change  Cluster  \n",
       "0            0.023567        2  \n",
       "1            0.022226        0  \n",
       "2            0.023195        5  \n",
       "3            0.023567        5  \n",
       "4            0.023138        0  \n",
       "\n",
       "[5 rows x 124 columns]"
      ]
     },
     "execution_count": 37,
     "metadata": {},
     "output_type": "execute_result"
    }
   ],
   "source": [
    "cluster_data2=pd.read_pickle('data\\kmeans_1')\n",
    "#cluster_data2.describe()\n",
    "cluster_data2.head()\n"
   ]
  },
  {
   "cell_type": "code",
   "execution_count": 38,
   "metadata": {},
   "outputs": [
    {
     "data": {
      "text/plain": [
       "'images/hous_transp.html'"
      ]
     },
     "execution_count": 38,
     "metadata": {},
     "output_type": "execute_result"
    }
   ],
   "source": [
    "fig = px.choropleth(cluster_data2, geojson=counties_map, locations='STCNTY', color='Cluster',\n",
    "                        #color_discrete_map=\"Bluered\",\n",
    "                        #animation_frame='year',\n",
    "                        #hover_data={'STCNTY':False, 'year':False, 'STATE':True, 'COUNTY':True},\n",
    "                        scope=\"usa\",\n",
    "                        #range_color=(0.5,1),\n",
    "                        width=800,\n",
    "                        height=600,\n",
    "                        )\n",
    "fig.update(layout_coloraxis_showscale=False)\n",
    "plotly.offline.plot(fig, filename='images/hous_transp.html', auto_play = False)"
   ]
  },
  {
   "cell_type": "code",
   "execution_count": 69,
   "metadata": {},
   "outputs": [
    {
     "name": "stdout",
     "output_type": "stream",
     "text": [
      "features location Cluster\n",
      "columns                  \n",
      "STCNTY                   \n",
      "01001       01001       5\n",
      "01003       01003       0\n",
      "01005       01005       5\n",
      "01007       01007       5\n",
      "01009       01009       0\n",
      "...           ...     ...\n",
      "56037       56037       5\n",
      "56039       56039       0\n",
      "56041       56041       5\n",
      "56043       56043       0\n",
      "56045       56045       0\n",
      "\n",
      "[3140 rows x 2 columns]\n"
     ]
    }
   ],
   "source": [
    "cluster_data3=pd.read_pickle('data\\kmeans_2')\n",
    "#cluster_data3.describe()\n",
    "cluster_data3.head()\n",
    "cluster_data3['location']=cluster_data3.index\n",
    "print(cluster_data3[['location','Cluster']])\n",
    "\n",
    "#cluster_data1.loc[cluster_data1[\"Cluster\"] == -1, \"Cluster\"] = 5"
   ]
  },
  {
   "cell_type": "code",
   "execution_count": 70,
   "metadata": {},
   "outputs": [
    {
     "data": {
      "text/plain": [
       "'images/notworking.html'"
      ]
     },
     "execution_count": 70,
     "metadata": {},
     "output_type": "execute_result"
    }
   ],
   "source": [
    "fig = px.choropleth(cluster_data3, geojson=counties_map, locations='location', color='Cluster',\n",
    "                        #color_discrete_map=\"Bluered\",\n",
    "                        #animation_frame='year',\n",
    "                        #hover_data={'STCNTY':False, 'year':False, 'STATE':True, 'COUNTY':True},\n",
    "                        scope=\"usa\",\n",
    "                        #range_color=(0.5,1),\n",
    "                        width=800,\n",
    "                        height=600,\n",
    "                        )\n",
    "fig.update(layout_coloraxis_showscale=False)\n",
    "plotly.offline.plot(fig, filename='images/notworking.html', auto_play = False)"
   ]
  },
  {
   "cell_type": "markdown",
   "metadata": {},
   "source": [
    "Radar chart"
   ]
  },
  {
   "cell_type": "code",
   "execution_count": 72,
   "metadata": {},
   "outputs": [
    {
     "data": {
      "application/vnd.plotly.v1+json": {
       "config": {
        "plotlyServerURL": "https://plot.ly"
       },
       "data": [
        {
         "fill": "toself",
         "name": "Product A",
         "r": [
          1,
          5,
          2,
          2,
          3
         ],
         "theta": [
          "processing cost",
          "mechanical properties",
          "chemical stability",
          "thermal stability",
          "device integration"
         ],
         "type": "scatterpolar"
        },
        {
         "fill": "toself",
         "name": "Product B",
         "r": [
          4,
          3,
          2.5,
          1,
          2
         ],
         "theta": [
          "processing cost",
          "mechanical properties",
          "chemical stability",
          "thermal stability",
          "device integration"
         ],
         "type": "scatterpolar"
        }
       ],
       "layout": {
        "polar": {
         "radialaxis": {
          "range": [
           0,
           5
          ],
          "visible": true
         }
        },
        "showlegend": false,
        "template": {
         "data": {
          "bar": [
           {
            "error_x": {
             "color": "#2a3f5f"
            },
            "error_y": {
             "color": "#2a3f5f"
            },
            "marker": {
             "line": {
              "color": "#E5ECF6",
              "width": 0.5
             },
             "pattern": {
              "fillmode": "overlay",
              "size": 10,
              "solidity": 0.2
             }
            },
            "type": "bar"
           }
          ],
          "barpolar": [
           {
            "marker": {
             "line": {
              "color": "#E5ECF6",
              "width": 0.5
             },
             "pattern": {
              "fillmode": "overlay",
              "size": 10,
              "solidity": 0.2
             }
            },
            "type": "barpolar"
           }
          ],
          "carpet": [
           {
            "aaxis": {
             "endlinecolor": "#2a3f5f",
             "gridcolor": "white",
             "linecolor": "white",
             "minorgridcolor": "white",
             "startlinecolor": "#2a3f5f"
            },
            "baxis": {
             "endlinecolor": "#2a3f5f",
             "gridcolor": "white",
             "linecolor": "white",
             "minorgridcolor": "white",
             "startlinecolor": "#2a3f5f"
            },
            "type": "carpet"
           }
          ],
          "choropleth": [
           {
            "colorbar": {
             "outlinewidth": 0,
             "ticks": ""
            },
            "type": "choropleth"
           }
          ],
          "contour": [
           {
            "colorbar": {
             "outlinewidth": 0,
             "ticks": ""
            },
            "colorscale": [
             [
              0,
              "#0d0887"
             ],
             [
              0.1111111111111111,
              "#46039f"
             ],
             [
              0.2222222222222222,
              "#7201a8"
             ],
             [
              0.3333333333333333,
              "#9c179e"
             ],
             [
              0.4444444444444444,
              "#bd3786"
             ],
             [
              0.5555555555555556,
              "#d8576b"
             ],
             [
              0.6666666666666666,
              "#ed7953"
             ],
             [
              0.7777777777777778,
              "#fb9f3a"
             ],
             [
              0.8888888888888888,
              "#fdca26"
             ],
             [
              1,
              "#f0f921"
             ]
            ],
            "type": "contour"
           }
          ],
          "contourcarpet": [
           {
            "colorbar": {
             "outlinewidth": 0,
             "ticks": ""
            },
            "type": "contourcarpet"
           }
          ],
          "heatmap": [
           {
            "colorbar": {
             "outlinewidth": 0,
             "ticks": ""
            },
            "colorscale": [
             [
              0,
              "#0d0887"
             ],
             [
              0.1111111111111111,
              "#46039f"
             ],
             [
              0.2222222222222222,
              "#7201a8"
             ],
             [
              0.3333333333333333,
              "#9c179e"
             ],
             [
              0.4444444444444444,
              "#bd3786"
             ],
             [
              0.5555555555555556,
              "#d8576b"
             ],
             [
              0.6666666666666666,
              "#ed7953"
             ],
             [
              0.7777777777777778,
              "#fb9f3a"
             ],
             [
              0.8888888888888888,
              "#fdca26"
             ],
             [
              1,
              "#f0f921"
             ]
            ],
            "type": "heatmap"
           }
          ],
          "heatmapgl": [
           {
            "colorbar": {
             "outlinewidth": 0,
             "ticks": ""
            },
            "colorscale": [
             [
              0,
              "#0d0887"
             ],
             [
              0.1111111111111111,
              "#46039f"
             ],
             [
              0.2222222222222222,
              "#7201a8"
             ],
             [
              0.3333333333333333,
              "#9c179e"
             ],
             [
              0.4444444444444444,
              "#bd3786"
             ],
             [
              0.5555555555555556,
              "#d8576b"
             ],
             [
              0.6666666666666666,
              "#ed7953"
             ],
             [
              0.7777777777777778,
              "#fb9f3a"
             ],
             [
              0.8888888888888888,
              "#fdca26"
             ],
             [
              1,
              "#f0f921"
             ]
            ],
            "type": "heatmapgl"
           }
          ],
          "histogram": [
           {
            "marker": {
             "pattern": {
              "fillmode": "overlay",
              "size": 10,
              "solidity": 0.2
             }
            },
            "type": "histogram"
           }
          ],
          "histogram2d": [
           {
            "colorbar": {
             "outlinewidth": 0,
             "ticks": ""
            },
            "colorscale": [
             [
              0,
              "#0d0887"
             ],
             [
              0.1111111111111111,
              "#46039f"
             ],
             [
              0.2222222222222222,
              "#7201a8"
             ],
             [
              0.3333333333333333,
              "#9c179e"
             ],
             [
              0.4444444444444444,
              "#bd3786"
             ],
             [
              0.5555555555555556,
              "#d8576b"
             ],
             [
              0.6666666666666666,
              "#ed7953"
             ],
             [
              0.7777777777777778,
              "#fb9f3a"
             ],
             [
              0.8888888888888888,
              "#fdca26"
             ],
             [
              1,
              "#f0f921"
             ]
            ],
            "type": "histogram2d"
           }
          ],
          "histogram2dcontour": [
           {
            "colorbar": {
             "outlinewidth": 0,
             "ticks": ""
            },
            "colorscale": [
             [
              0,
              "#0d0887"
             ],
             [
              0.1111111111111111,
              "#46039f"
             ],
             [
              0.2222222222222222,
              "#7201a8"
             ],
             [
              0.3333333333333333,
              "#9c179e"
             ],
             [
              0.4444444444444444,
              "#bd3786"
             ],
             [
              0.5555555555555556,
              "#d8576b"
             ],
             [
              0.6666666666666666,
              "#ed7953"
             ],
             [
              0.7777777777777778,
              "#fb9f3a"
             ],
             [
              0.8888888888888888,
              "#fdca26"
             ],
             [
              1,
              "#f0f921"
             ]
            ],
            "type": "histogram2dcontour"
           }
          ],
          "mesh3d": [
           {
            "colorbar": {
             "outlinewidth": 0,
             "ticks": ""
            },
            "type": "mesh3d"
           }
          ],
          "parcoords": [
           {
            "line": {
             "colorbar": {
              "outlinewidth": 0,
              "ticks": ""
             }
            },
            "type": "parcoords"
           }
          ],
          "pie": [
           {
            "automargin": true,
            "type": "pie"
           }
          ],
          "scatter": [
           {
            "fillpattern": {
             "fillmode": "overlay",
             "size": 10,
             "solidity": 0.2
            },
            "type": "scatter"
           }
          ],
          "scatter3d": [
           {
            "line": {
             "colorbar": {
              "outlinewidth": 0,
              "ticks": ""
             }
            },
            "marker": {
             "colorbar": {
              "outlinewidth": 0,
              "ticks": ""
             }
            },
            "type": "scatter3d"
           }
          ],
          "scattercarpet": [
           {
            "marker": {
             "colorbar": {
              "outlinewidth": 0,
              "ticks": ""
             }
            },
            "type": "scattercarpet"
           }
          ],
          "scattergeo": [
           {
            "marker": {
             "colorbar": {
              "outlinewidth": 0,
              "ticks": ""
             }
            },
            "type": "scattergeo"
           }
          ],
          "scattergl": [
           {
            "marker": {
             "colorbar": {
              "outlinewidth": 0,
              "ticks": ""
             }
            },
            "type": "scattergl"
           }
          ],
          "scattermapbox": [
           {
            "marker": {
             "colorbar": {
              "outlinewidth": 0,
              "ticks": ""
             }
            },
            "type": "scattermapbox"
           }
          ],
          "scatterpolar": [
           {
            "marker": {
             "colorbar": {
              "outlinewidth": 0,
              "ticks": ""
             }
            },
            "type": "scatterpolar"
           }
          ],
          "scatterpolargl": [
           {
            "marker": {
             "colorbar": {
              "outlinewidth": 0,
              "ticks": ""
             }
            },
            "type": "scatterpolargl"
           }
          ],
          "scatterternary": [
           {
            "marker": {
             "colorbar": {
              "outlinewidth": 0,
              "ticks": ""
             }
            },
            "type": "scatterternary"
           }
          ],
          "surface": [
           {
            "colorbar": {
             "outlinewidth": 0,
             "ticks": ""
            },
            "colorscale": [
             [
              0,
              "#0d0887"
             ],
             [
              0.1111111111111111,
              "#46039f"
             ],
             [
              0.2222222222222222,
              "#7201a8"
             ],
             [
              0.3333333333333333,
              "#9c179e"
             ],
             [
              0.4444444444444444,
              "#bd3786"
             ],
             [
              0.5555555555555556,
              "#d8576b"
             ],
             [
              0.6666666666666666,
              "#ed7953"
             ],
             [
              0.7777777777777778,
              "#fb9f3a"
             ],
             [
              0.8888888888888888,
              "#fdca26"
             ],
             [
              1,
              "#f0f921"
             ]
            ],
            "type": "surface"
           }
          ],
          "table": [
           {
            "cells": {
             "fill": {
              "color": "#EBF0F8"
             },
             "line": {
              "color": "white"
             }
            },
            "header": {
             "fill": {
              "color": "#C8D4E3"
             },
             "line": {
              "color": "white"
             }
            },
            "type": "table"
           }
          ]
         },
         "layout": {
          "annotationdefaults": {
           "arrowcolor": "#2a3f5f",
           "arrowhead": 0,
           "arrowwidth": 1
          },
          "autotypenumbers": "strict",
          "coloraxis": {
           "colorbar": {
            "outlinewidth": 0,
            "ticks": ""
           }
          },
          "colorscale": {
           "diverging": [
            [
             0,
             "#8e0152"
            ],
            [
             0.1,
             "#c51b7d"
            ],
            [
             0.2,
             "#de77ae"
            ],
            [
             0.3,
             "#f1b6da"
            ],
            [
             0.4,
             "#fde0ef"
            ],
            [
             0.5,
             "#f7f7f7"
            ],
            [
             0.6,
             "#e6f5d0"
            ],
            [
             0.7,
             "#b8e186"
            ],
            [
             0.8,
             "#7fbc41"
            ],
            [
             0.9,
             "#4d9221"
            ],
            [
             1,
             "#276419"
            ]
           ],
           "sequential": [
            [
             0,
             "#0d0887"
            ],
            [
             0.1111111111111111,
             "#46039f"
            ],
            [
             0.2222222222222222,
             "#7201a8"
            ],
            [
             0.3333333333333333,
             "#9c179e"
            ],
            [
             0.4444444444444444,
             "#bd3786"
            ],
            [
             0.5555555555555556,
             "#d8576b"
            ],
            [
             0.6666666666666666,
             "#ed7953"
            ],
            [
             0.7777777777777778,
             "#fb9f3a"
            ],
            [
             0.8888888888888888,
             "#fdca26"
            ],
            [
             1,
             "#f0f921"
            ]
           ],
           "sequentialminus": [
            [
             0,
             "#0d0887"
            ],
            [
             0.1111111111111111,
             "#46039f"
            ],
            [
             0.2222222222222222,
             "#7201a8"
            ],
            [
             0.3333333333333333,
             "#9c179e"
            ],
            [
             0.4444444444444444,
             "#bd3786"
            ],
            [
             0.5555555555555556,
             "#d8576b"
            ],
            [
             0.6666666666666666,
             "#ed7953"
            ],
            [
             0.7777777777777778,
             "#fb9f3a"
            ],
            [
             0.8888888888888888,
             "#fdca26"
            ],
            [
             1,
             "#f0f921"
            ]
           ]
          },
          "colorway": [
           "#636efa",
           "#EF553B",
           "#00cc96",
           "#ab63fa",
           "#FFA15A",
           "#19d3f3",
           "#FF6692",
           "#B6E880",
           "#FF97FF",
           "#FECB52"
          ],
          "font": {
           "color": "#2a3f5f"
          },
          "geo": {
           "bgcolor": "white",
           "lakecolor": "white",
           "landcolor": "#E5ECF6",
           "showlakes": true,
           "showland": true,
           "subunitcolor": "white"
          },
          "hoverlabel": {
           "align": "left"
          },
          "hovermode": "closest",
          "mapbox": {
           "style": "light"
          },
          "paper_bgcolor": "white",
          "plot_bgcolor": "#E5ECF6",
          "polar": {
           "angularaxis": {
            "gridcolor": "white",
            "linecolor": "white",
            "ticks": ""
           },
           "bgcolor": "#E5ECF6",
           "radialaxis": {
            "gridcolor": "white",
            "linecolor": "white",
            "ticks": ""
           }
          },
          "scene": {
           "xaxis": {
            "backgroundcolor": "#E5ECF6",
            "gridcolor": "white",
            "gridwidth": 2,
            "linecolor": "white",
            "showbackground": true,
            "ticks": "",
            "zerolinecolor": "white"
           },
           "yaxis": {
            "backgroundcolor": "#E5ECF6",
            "gridcolor": "white",
            "gridwidth": 2,
            "linecolor": "white",
            "showbackground": true,
            "ticks": "",
            "zerolinecolor": "white"
           },
           "zaxis": {
            "backgroundcolor": "#E5ECF6",
            "gridcolor": "white",
            "gridwidth": 2,
            "linecolor": "white",
            "showbackground": true,
            "ticks": "",
            "zerolinecolor": "white"
           }
          },
          "shapedefaults": {
           "line": {
            "color": "#2a3f5f"
           }
          },
          "ternary": {
           "aaxis": {
            "gridcolor": "white",
            "linecolor": "white",
            "ticks": ""
           },
           "baxis": {
            "gridcolor": "white",
            "linecolor": "white",
            "ticks": ""
           },
           "bgcolor": "#E5ECF6",
           "caxis": {
            "gridcolor": "white",
            "linecolor": "white",
            "ticks": ""
           }
          },
          "title": {
           "x": 0.05
          },
          "xaxis": {
           "automargin": true,
           "gridcolor": "white",
           "linecolor": "white",
           "ticks": "",
           "title": {
            "standoff": 15
           },
           "zerolinecolor": "white",
           "zerolinewidth": 2
          },
          "yaxis": {
           "automargin": true,
           "gridcolor": "white",
           "linecolor": "white",
           "ticks": "",
           "title": {
            "standoff": 15
           },
           "zerolinecolor": "white",
           "zerolinewidth": 2
          }
         }
        }
       }
      }
     },
     "metadata": {},
     "output_type": "display_data"
    }
   ],
   "source": [
    "import plotly.graph_objects as go\n",
    "\n",
    "categories = ['processing cost','mechanical properties','chemical stability',\n",
    "              'thermal stability', 'device integration']\n",
    "\n",
    "fig = go.Figure()\n",
    "\n",
    "fig.add_trace(go.Scatterpolar(\n",
    "      r=[1, 5, 2, 2, 3],\n",
    "      theta=categories,\n",
    "      fill='toself',\n",
    "      name='Product A'\n",
    "))\n",
    "fig.add_trace(go.Scatterpolar(\n",
    "      r=[4, 3, 2.5, 1, 2],\n",
    "      theta=categories,\n",
    "      fill='toself',\n",
    "      name='Product B'\n",
    "))\n",
    "\n",
    "fig.update_layout(\n",
    "  polar=dict(\n",
    "    radialaxis=dict(\n",
    "      visible=True,\n",
    "      range=[0, 5]\n",
    "    )),\n",
    "  showlegend=False\n",
    ")\n",
    "\n",
    "fig.show()"
   ]
  },
  {
   "cell_type": "markdown",
   "metadata": {},
   "source": [
    "Need to rename the '-1' cluster. Not showing up on maps"
   ]
  }
 ],
 "metadata": {
  "kernelspec": {
   "display_name": "Python 3",
   "language": "python",
   "name": "python3"
  },
  "language_info": {
   "codemirror_mode": {
    "name": "ipython",
    "version": 3
   },
   "file_extension": ".py",
   "mimetype": "text/x-python",
   "name": "python",
   "nbconvert_exporter": "python",
   "pygments_lexer": "ipython3",
   "version": "3.11.3"
  }
 },
 "nbformat": 4,
 "nbformat_minor": 2
}
