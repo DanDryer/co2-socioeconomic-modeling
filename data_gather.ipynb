{
 "cells": [
  {
   "cell_type": "code",
   "execution_count": null,
   "metadata": {},
   "outputs": [],
   "source": [
    "import pandas as pd\n",
    "import georasters as gr\n",
    "import os\n",
    "import geopandas as gpd\n",
    "from shapely.geometry import Point\n",
    "import urllib.request\n",
    "import json\n",
    "import plotly.express as px\n",
    "import urllib.request\n",
    "import json\n",
    "from shapely.geometry import Polygon\n",
    "import numpy as np\n",
    "import seaborn as sns"
   ]
  },
  {
   "cell_type": "markdown",
   "metadata": {},
   "source": [
    "Get data"
   ]
  },
  {
   "cell_type": "markdown",
   "metadata": {},
   "source": [
    "Social Vulnerability, or “SVI”, measures social conditions of a community and its vulnerability to\n",
    "human suffering and financial loss in the event of a disaster. It is primarily used by public\n",
    "officials and emergency response planners to identify communities in need of support. SVI can\n",
    "be grouped into four themes: 1) socioeconomic status 2) household characteristics 3) racial and\n",
    "ethnic minority status 4) housing type and transportation. These themes are composed of\n",
    "separate variables that are used to compute the theme value. There are 16 total individual\n",
    "variables; they include persons below 150% poverty, persons unemployed, aged 65 & older,\n",
    "civilians with a disability, etc. The four themes were used in this project and can be broken\n",
    "down as follows: socioeconomic status – describes income, poverty, education and\n",
    "employment; household composition – describes age, disability, and single parenting; minority\n",
    "status – describes race and ethnicity; housing type – describes housing structure, vehicle access\n",
    "and crowding. Additionally, the census variables: total population for a tract, housing units\n",
    "within a tract, number of households within a tract, and unemployment rate were also\n",
    "considered in this project. \n",
    "\n",
    "Data Source: \n",
    "https://www.atsdr.cdc.gov/placeandhealth/svi/data_documentation_download.html\n"
   ]
  },
  {
   "cell_type": "code",
   "execution_count": null,
   "metadata": {},
   "outputs": [],
   "source": [
    "svi_2014=pd.read_csv(\"data\\SVI_2014_US.csv\")\n",
    "svi_2014['Date']=2014\n",
    "\n",
    "svi_2016=pd.read_csv(\"data\\SVI_2016_US.csv\")\n",
    "svi_2016['Date']=2016\n",
    "\n",
    "svi_2018=pd.read_csv(\"data\\SVI_2018_US.csv\")\n",
    "svi_2018['Date']=2018\n",
    "\n",
    "svi_2020=pd.read_csv(\"data\\SVI_2020_US.csv\")\n",
    "svi_2020['Date']=2020"
   ]
  },
  {
   "cell_type": "markdown",
   "metadata": {},
   "source": [
    "SVI data cleaning"
   ]
  },
  {
   "cell_type": "code",
   "execution_count": null,
   "metadata": {},
   "outputs": [],
   "source": [
    "match_fields=set(svi_2014.columns) & set(svi_2016.columns) & set(svi_2018.columns) & set(svi_2020.columns)\n",
    "match_fields=list(match_fields)\n",
    "\n",
    "svi_2014=svi_2014[match_fields]\n",
    "svi_2016=svi_2016[match_fields]\n",
    "svi_2018=svi_2018[match_fields]\n",
    "svi_2020=svi_2020[match_fields]\n",
    "\n",
    "svi = pd.concat([svi_2014, svi_2016,svi_2018,svi_2020])\n",
    "svi.shape"
   ]
  },
  {
   "cell_type": "code",
   "execution_count": null,
   "metadata": {},
   "outputs": [],
   "source": [
    "svi['STCNTY'] = svi['STCNTY'].astype(int).astype(str).apply(lambda x: '{0:0>5}'.format(x))\n",
    "svi['Date'] = pd.to_datetime(svi['Date'].map(str)).dt.strftime('%Y')\n",
    "svi.sort_values(by='Date', inplace=True)"
   ]
  },
  {
   "cell_type": "code",
   "execution_count": null,
   "metadata": {},
   "outputs": [],
   "source": [
    "svi=svi.drop(['STATE','LOCATION','COUNTY','ST_ABBR'], axis=1)\n",
    "svi=svi.groupby(['STCNTY','Date'],as_index=False).mean()\n",
    "display(svi.head(5))"
   ]
  },
  {
   "cell_type": "markdown",
   "metadata": {},
   "source": [
    "Data processing was initially performed using CO2 data obtained from NASA’s OCO-2 mission\n",
    "and via NASA’s Goddard Earth Sciences Data and Information Services Center (Goddard Earth\n",
    "Sciences Data and Information Services Center, 2018). This dataset consists of 3 km2\n",
    "rectangular raster bands. OCO-2 data possesses significant discontinuity due to the satellite’s\n",
    "path, poor quality flagging, and sparce observations with irregular frequencies. A given location\n",
    "can have between 2 and 50 high-quality observations per year. Not enough values were present\n",
    "in the OCO-2 dataset alone to conduct imputation of missing values. In addition to the\n",
    "discontinuity of the observations, even with projection and interpolation, the raster bands were\n",
    "difficult to spatially join with other geodata.\n",
    "\n",
    "Instead, we harnessed the work of researchers, Sheng et al. (2022), who produced a more\n",
    "complete CO2 emissions dataset. Using geostatistical techniques, they combined the OCO-2 and\n",
    "GOSAT missions producing a complete global emission dataset with a 1° square pixel resolution\n",
    "at both 3-day and monthly frequencies from 2009-2020 9\n",
    ". Our work aggregates the monthly\n",
    "values into annual means and standard deviations which removes the seasonal trend present in\n",
    "any CO2 data (visible in Figure 4) and captures variation. Each pixel was interpolated and\n",
    "labeled with a with a latitude and longitude coordinate pair.\n",
    "\n",
    "Data Source: https://dataverse.harvard.edu/dataset.xhtml?persistentId=doi:10.7910/DVN/4WDTD8"
   ]
  },
  {
   "cell_type": "markdown",
   "metadata": {},
   "source": [
    "Sample output from one month of readings"
   ]
  },
  {
   "cell_type": "code",
   "execution_count": null,
   "metadata": {},
   "outputs": [],
   "source": [
    "import rasterio\n",
    "from rasterio.plot import show\n",
    "fp = r'data\\MappingXCO2_month\\MappingXCO2_201002.tif'\n",
    "img = rasterio.open(fp)\n",
    "show(img)"
   ]
  },
  {
   "cell_type": "markdown",
   "metadata": {},
   "source": [
    "XCO2 data cleaning"
   ]
  },
  {
   "cell_type": "code",
   "execution_count": null,
   "metadata": {},
   "outputs": [],
   "source": [
    "xco2_data=pd.DataFrame()\n",
    "directory = os.fsencode('data\\MappingXCO2_month')\n",
    "for file in os.listdir(directory):\n",
    "    filename = os.fsdecode(file)\n",
    "    year=filename[12:16]\n",
    "    month=filename[16:18]\n",
    "    data=gr.from_file(f'data\\MappingXCO2_month\\{filename}').to_pandas().iloc[:,[2,3,4]]\n",
    "    data = data.rename(columns={True: 'xco2', 'x': 'lon', 'y':'lat'})\n",
    "    data['year']=year\n",
    "    data['month']=month\n",
    "    xco2_data = pd.concat([xco2_data, data])\n",
    "    \n",
    "xco2_data = xco2_data[(xco2_data['lon'] >= -180.00) & (xco2_data['lon'] <= -65.00)]\n",
    "xco2_data = xco2_data[(xco2_data['lat'] >= 17.00) & (xco2_data['lat'] <= 72.00)]\n",
    "xco2_data['coords']=list(zip(xco2_data['lon'],xco2_data['lat']))\n",
    "xco2_data['coords']=xco2_data['coords'].apply(Point)\n",
    "\n",
    "display(xco2_data.head())"
   ]
  },
  {
   "cell_type": "markdown",
   "metadata": {},
   "source": [
    "Grouping XCO2 measurements by united states county. \n",
    "\n",
    "County boundaries obtained from: https://github.com/plotly/datasets\n",
    " \n",
    "Not really sure what this one is:  \n",
    "https://public.opendatasoft.com/explore/dataset/us-county-boundaries/export/?disjunctive.statefp&disjunctive.countyfp&disjunctive.name&disjunctive.namelsad&disjunctive.stusab&disjunctive.state_name"
   ]
  },
  {
   "cell_type": "code",
   "execution_count": null,
   "metadata": {},
   "outputs": [],
   "source": [
    "request = urllib.request.Request('https://raw.githubusercontent.com/plotly/datasets/master/geojson-counties-fips.json')\n",
    "opener = urllib.request.build_opener()\n",
    "response = opener.open(request)\n",
    "counties_map = json.load(response)\n",
    "\n",
    "counties=gpd.GeoDataFrame.from_features(counties_map[\"features\"])\n",
    "id = pd.json_normalize(counties_map, record_path =['features'])[['id']]\n",
    "counties['geoid']=id\n",
    "\n",
    "points = gpd.GeoDataFrame(xco2_data, geometry='coords', crs=counties.crs)\n",
    "xco2_mo = gpd.sjoin_nearest(counties,points, how='left')\n",
    "\n",
    "xco2_mo=xco2_mo[['xco2','year','month','geoid']]\n",
    "xco2_mo=xco2_mo.groupby(['geoid','year','month'],as_index=False).mean()\n",
    "xco2_mo['date'] = pd.to_datetime(xco2_mo[['year', 'month']].assign(DAY=1))\n",
    "\n",
    "display(xco2_mo.head())"
   ]
  },
  {
   "cell_type": "code",
   "execution_count": null,
   "metadata": {},
   "outputs": [],
   "source": [
    "xco2_mo_plot=xco2_mo.groupby(['year','month'],as_index=False).mean()\n",
    "xco2_mo_plot['date']=xco2_mo_plot['date'].dt.strftime('%Y-%m')"
   ]
  },
  {
   "cell_type": "markdown",
   "metadata": {},
   "source": [
    "Plotting change average xco2 value in the United States over time"
   ]
  },
  {
   "cell_type": "code",
   "execution_count": null,
   "metadata": {},
   "outputs": [],
   "source": [
    "fig = px.line(xco2_mo_plot, x=\"date\", y=\"xco2\",  labels={\n",
    "    \"date\": \"Date\",\n",
    "    \"xco2\": \"Column Averaged CO2 (ppm)\",\n",
    "    \"species\": \"Species of Iris\"}, \n",
    "    title='United States Column Averaged CO2 Levels Over time')\n",
    "fig.update_xaxes(\n",
    "    dtick=\"M3\")\n",
    "fig.show()"
   ]
  },
  {
   "cell_type": "code",
   "execution_count": null,
   "metadata": {},
   "outputs": [],
   "source": [
    "xco2_yr=xco2_mo.drop(['month','date'], axis=1)\n",
    "xco2_yr=xco2_yr.groupby(['geoid','year'],as_index=False).mean()\n",
    "display(xco2_yr.head(2))\n",
    "print(xco2_yr.shape)"
   ]
  },
  {
   "cell_type": "code",
   "execution_count": null,
   "metadata": {},
   "outputs": [],
   "source": [
    "svi_co2=pd.merge(svi, xco2_yr, left_on=['STCNTY','Date'], right_on=['geoid','year'])\n",
    "svi_co2=svi_co2.dropna()\n",
    "svi_co2.shape"
   ]
  },
  {
   "cell_type": "markdown",
   "metadata": {},
   "source": [
    "For each year, subtract the mean"
   ]
  },
  {
   "cell_type": "code",
   "execution_count": null,
   "metadata": {},
   "outputs": [],
   "source": [
    "#calculate yearly averages\n",
    "grouped=svi_co2.groupby('year')\n",
    "averaged=grouped.mean()\n",
    "print(averaged['xco2'])\n",
    "\n",
    "conditions = [\n",
    "    (svi_co2['year'] == '2014'),\n",
    "    (svi_co2['year'] == '2016'),\n",
    "    (svi_co2['year'] == '2018'),\n",
    "    (svi_co2['year'] == '2020')\n",
    "    ]\n",
    "values = [397.557046, 403.399761, 407.916993, 412.896790]\n",
    "\n",
    "svi_co2['yr_avg'] = np.select(conditions, values)\n",
    "\n",
    "svi_co2['adj_xco2']=svi_co2['xco2']-svi_co2['yr_avg']\n",
    "display(svi_co2['adj_xco2'])"
   ]
  },
  {
   "cell_type": "markdown",
   "metadata": {},
   "source": [
    "Pickling the dataset"
   ]
  },
  {
   "cell_type": "code",
   "execution_count": null,
   "metadata": {},
   "outputs": [],
   "source": [
    "svi_co2.to_pickle('data\\dataset')\n",
    "test = pd.read_pickle('data\\dataset')"
   ]
  }
 ],
 "metadata": {
  "kernelspec": {
   "display_name": "Python 3",
   "language": "python",
   "name": "python3"
  },
  "language_info": {
   "codemirror_mode": {
    "name": "ipython",
    "version": 3
   },
   "file_extension": ".py",
   "mimetype": "text/x-python",
   "name": "python",
   "nbconvert_exporter": "python",
   "pygments_lexer": "ipython3",
   "version": "3.11.3"
  }
 },
 "nbformat": 4,
 "nbformat_minor": 2
}
